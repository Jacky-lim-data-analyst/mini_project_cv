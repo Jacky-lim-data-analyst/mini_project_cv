{
 "cells": [
  {
   "cell_type": "markdown",
   "id": "e4bc9bfa-c548-4865-8474-586adf8d62f0",
   "metadata": {},
   "source": [
    "# Workflow\n",
    "![document_OCR](img_embed/w8_doc_scan.webp)"
   ]
  },
  {
   "cell_type": "markdown",
   "id": "a22e3d65-bcba-4b97-8e1f-0bee2d2a2a3f",
   "metadata": {},
   "source": [
    "# Step 0: Setup\n",
    "Make sure to install Tesseract OCR on your PC."
   ]
  },
  {
   "attachments": {},
   "cell_type": "markdown",
   "id": "339a8caf-ec0f-4734-b32d-24d5eadf9b76",
   "metadata": {},
   "source": [
    "```\n",
    "!pip install pytesseract\n",
    "\n",
    "import pytesseract\n",
    "\n",
    "pytesseract.pytesseract.tesseract_cmd = \"C:\\\\Program Files (x86)\\\\Tesseract-OCR\\\\tesseract.exe\"\n",
    "```"
   ]
  },
  {
   "cell_type": "code",
   "execution_count": 1,
   "id": "77c712c0-ee9a-42e1-9d8a-c7bdac95d509",
   "metadata": {},
   "outputs": [],
   "source": [
    "import pytesseract\n",
    "\n",
    "pytesseract.pytesseract.tesseract_cmd = \"C:\\\\Program Files (x86)\\\\Tesseract-OCR\\\\tesseract.exe\""
   ]
  },
  {
   "cell_type": "code",
   "execution_count": 2,
   "id": "9a6499b6-5555-4210-ba9c-26582587e1e3",
   "metadata": {},
   "outputs": [
    {
     "data": {
      "text/plain": [
       "True"
      ]
     },
     "execution_count": 2,
     "metadata": {},
     "output_type": "execute_result"
    }
   ],
   "source": [
    "import cv2 as cv\n",
    "import numpy as np\n",
    "from utils import display_image, display_images\n",
    "\n",
    "if not cv.useOptimized():\n",
    "    cv.setUseOptimized(True)\n",
    "\n",
    "cv.useOptimized()"
   ]
  },
  {
   "cell_type": "markdown",
   "id": "ad7b711f-a9c5-46a6-92c7-79bbac1c0522",
   "metadata": {},
   "source": [
    "# Step 1: Load image and display image"
   ]
  },
  {
   "cell_type": "code",
   "execution_count": 3,
   "id": "2d58eeda-90ce-45eb-b2e6-91f12a2172a0",
   "metadata": {},
   "outputs": [],
   "source": [
    "img = cv.imread(\"images/w8/docs/receipt2.webp\")\n",
    "display_image(\"image\", img, adjust=True)"
   ]
  },
  {
   "cell_type": "markdown",
   "id": "d07a8059-377c-4395-95ba-d5af0ffc5cbb",
   "metadata": {},
   "source": [
    "# Description of the project workflow\n",
    "1. Read image and visualize\n",
    "2. Resize the image\n",
    "3. Bilateral filtering\n",
    "4. change from BGR to grayscale\n",
    "5. Canny edge detector\n",
    "6. Contour detection and post processing\n",
    "7. Detect rectangle with Douglas Peuker algorithms\n",
    "8. Sort the points of the contours\n",
    "9. Perspective transform\n",
    "10. Apply OCR with tesseract."
   ]
  },
  {
   "cell_type": "code",
   "execution_count": 4,
   "id": "23fc1849-5092-44a8-b894-c4a85cf18812",
   "metadata": {},
   "outputs": [],
   "source": [
    "from utils import resize_aspect_ratio, auto_canny"
   ]
  },
  {
   "cell_type": "code",
   "execution_count": 5,
   "id": "039a4bd5-f31e-4099-a806-84302a990d37",
   "metadata": {},
   "outputs": [],
   "source": [
    "def filterFunc(x):\n",
    "    \"\"\"Filter function to filter x\n",
    "    Arguments:\n",
    "    ---\n",
    "    x: list of contours (outputs of cv.findContours())\n",
    "    \n",
    "    Returns:\n",
    "    ---\n",
    "    Boolean\"\"\"\n",
    "    if cv.contourArea(x) > min_area:\n",
    "        return True\n",
    "    else:\n",
    "        return False"
   ]
  },
  {
   "cell_type": "markdown",
   "id": "4ecfaf2b-3fe6-4911-843d-76ed3f3b5522",
   "metadata": {},
   "source": [
    "Credit to the [PyImageSearch blog post](https://pyimagesearch.com/2014/08/25/4-point-opencv-getperspective-transform-example/) on the tips and tricks of how to utilize Google `pytesseract` API."
   ]
  },
  {
   "cell_type": "code",
   "execution_count": 6,
   "id": "de2c2d50-7fd2-4347-9693-94dffc8ab91e",
   "metadata": {},
   "outputs": [],
   "source": [
    "from scipy.spatial.distance import euclidean"
   ]
  },
  {
   "cell_type": "code",
   "execution_count": 7,
   "id": "63143dcd-2cbe-4e24-a8d5-a57906cf3297",
   "metadata": {},
   "outputs": [],
   "source": [
    "def order_points(pts):\n",
    "    \"\"\"\"\"\"\n",
    "    rect = np.zeros((4, 2), dtype=\"float32\")\n",
    "\n",
    "    s = pts.sum(axis=-1)\n",
    "    rect[0] = pts[np.argmin(s)]\n",
    "    rect[2] = pts[np.argmax(s)]\n",
    "\n",
    "    diff = np.diff(pts, axis=-1)\n",
    "    rect[1] = pts[np.argmin(diff)]\n",
    "    rect[3] = pts[np.argmax(diff)]\n",
    "\n",
    "    return rect\n",
    "\n",
    "def four_point_transform(image, pts):\n",
    "    \"\"\"\"\"\"\n",
    "    rect = order_points(pts)\n",
    "    tl, tr, br, bl = rect\n",
    "\n",
    "    w1 = euclidean(tl, tr)\n",
    "    w2 = euclidean(bl, br)\n",
    "    w = max(w1, w2)\n",
    "\n",
    "    h1 = euclidean(tl, bl)\n",
    "    h2 = euclidean(tr, br)\n",
    "    h = max(h1, h2)\n",
    "\n",
    "    dst_points = np.float32([[0, 0], [w-1, 0], [w-1, h-1], [0, h-1]])\n",
    "\n",
    "    M = cv.getPerspectiveTransform(rect, dst_points)\n",
    "    warped = cv.warpPerspective(image, M, (int(w), int(h)))\n",
    "\n",
    "    return warped"
   ]
  },
  {
   "cell_type": "code",
   "execution_count": 8,
   "id": "49e1927a-7beb-448b-b237-248d862fb91f",
   "metadata": {},
   "outputs": [],
   "source": [
    "# User-defined parameters\n",
    "new_width = 500\n",
    "min_area = 400\n",
    "canny_method = \"otsu\"\n",
    "frac_peri = 0.02\n",
    "# ratio = img.shape[1] / new_width"
   ]
  },
  {
   "cell_type": "code",
   "execution_count": 9,
   "id": "48d21606-7243-4d3d-a68e-609279135f68",
   "metadata": {},
   "outputs": [],
   "source": [
    "def detect_rectangle(img, new_width=new_width, frac_peri=frac_peri, min_area=min_area, canny_method=canny_method, debug=False):\n",
    "    \"\"\"\"\"\"\n",
    "    # resize\n",
    "    resized = resize_aspect_ratio(img, new_width, interpolation=cv.INTER_CUBIC)\n",
    "    # bilateral filter\n",
    "    resized = cv.bilateralFilter(resized, d=9, sigmaColor=25, sigmaSpace=25)\n",
    "    # display_images([img, resized], (\"image\", \"resize\"), adjust=True)\n",
    "    # to grayscale\n",
    "    gray = cv.cvtColor(resized, cv.COLOR_BGR2GRAY)\n",
    "    # auto Canny\n",
    "    edge = auto_canny(gray, method=canny_method)\n",
    "    if debug:\n",
    "        display_image(\"edge\", edge)\n",
    "    # contour\n",
    "    contours, _ = cv.findContours(edge, cv.RETR_TREE, cv.CHAIN_APPROX_SIMPLE)\n",
    "    # \n",
    "    contours_filtered = filter(filterFunc, contours)\n",
    "    contours_sorted = sorted(contours_filtered, key=cv.contourArea, reverse=True)\n",
    "    rect = None\n",
    "    \n",
    "    for c in contours_sorted:\n",
    "        # approximate contour\n",
    "        peri = cv.arcLength(c, True)\n",
    "        approx = cv.approxPolyDP(c, frac_peri * peri, True)\n",
    "    \n",
    "        if len(approx) == 4:\n",
    "            rect = approx\n",
    "            break\n",
    "    \n",
    "    if rect is not None:\n",
    "        # draw contour\n",
    "        cv.drawContours(resized, [rect], -1, (0, 255, 0), 2)\n",
    "        if debug:\n",
    "            display_image(\"contour\", resized)\n",
    "\n",
    "    return rect"
   ]
  },
  {
   "cell_type": "code",
   "execution_count": 13,
   "id": "b2e68aa8-3e08-493a-93ab-a5202569e960",
   "metadata": {},
   "outputs": [
    {
     "data": {
      "text/plain": [
       "(458, 454, 3)"
      ]
     },
     "execution_count": 13,
     "metadata": {},
     "output_type": "execute_result"
    }
   ],
   "source": [
    "warped.shape"
   ]
  },
  {
   "cell_type": "code",
   "execution_count": 10,
   "id": "1d0e031a-1cae-417b-be93-65c7eeded6c1",
   "metadata": {},
   "outputs": [
    {
     "name": "stdout",
     "output_type": "stream",
     "text": [
      "|\n",
      "NOT TESTED ON ANIMALS\n",
      "\n",
      "pay\n",
      "\n",
      "Main Street Restaurant\n",
      "6332 Business Drive\n",
      "\n",
      "Suite 528\n",
      "\n",
      "Palo Alto california 94301\n",
      "\n",
      "575-1628095\n",
      "\n",
      "Fri 04/07/2017 11:36 AM\n",
      "\n",
      "Merchant ID: 9hqjxvufdr\n",
      "Terminal ID: 11111\n",
      "Transaction ID: #e6d598eT\n",
      "Type: CREDIT\n",
      "PURCHASE\n",
      "Number:  XXXXXXXXXXXX0041\n",
      "Entry Mode: Swiped\n",
      "Card Type: DISCOVER\n",
      "Response: APPROVED\n",
      "Approval Code: 819543\n",
      "Sub Total USD$ 25.23\n",
      "Viele eA\n",
      "Total USD$ 29.01\n",
      "\n",
      "Thanks for suppor ting\n",
      "local business!\n",
      "\n",
      "THANK YOU\n",
      "\n",
      "No.\n",
      "Received from\n",
      "\n",
      "the sum of pesos\n",
      "\n",
      "RECEIPT\n",
      "\n",
      "Date —\n",
      "\n",
      "HS 108\n",
      "\n",
      "A\n",
      "\n",
      "as payment for\n",
      "\n",
      "p\n",
      "\n",
      "Signature\n",
      "\n",
      "TESCO\n",
      "\n",
      "— ae ae ome\n",
      "\n",
      "Metro\n",
      "Pl TEL 0845 677921¢\n",
      "\n",
      "F9ESH MILK 18\n",
      "MJESLI 2129\n",
      "DARK CHOCOLATE » F\n",
      "26 £0.95 1.90\n",
      "\n",
      "TOTAL 5. Of\n",
      "MASTERCARD SALE 508\n",
      "\n",
      "AID : A0000000041019\n",
      "\n",
      "NJMBER 1 KKK ERHKKKKKKO IGE tcc\n",
      "\n",
      "PAN SEQ NO : 02\n",
      "\n",
      "AUTH CODE ; 036017\n",
      "\n",
      "MERCHANT : 1833431\n",
      "\n",
      "START : 10/10 EXPIRY : 11/13\n",
      "\n",
      "Cardholder PIN Verified\n",
      "CHANGE QUE\n",
      "\n",
      "R_634004902428294x\n",
      "POINTS THIS VISIT 5\n",
      "TOTAL UP TO 22/04/12 717\n",
      "TOTAL INCLUDES ;\n",
      "T?F BONUS POINTS 360\n",
      "\n",
      ". “\n",
      "\n",
      "How did we do?\n",
      "Visit www.tescocomments com and\n",
      "tell us about your shopping trip\n",
      "\n",
      "23/04/12 19:51 2497 004 1004 1625\n",
      "\n"
     ]
    }
   ],
   "source": [
    "import os\n",
    "\n",
    "img_dir = \"./images/w8/docs\"\n",
    "file_names = os.listdir(img_dir)\n",
    "img_texts = {}\n",
    "\n",
    "for file in file_names:\n",
    "    filepath = os.path.join(img_dir, file)\n",
    "    img = cv.imread(cv.samples.findFile(filepath))\n",
    "    ratio = img.shape[1] / new_width\n",
    "    rect = detect_rectangle(img)\n",
    "    if rect is None:\n",
    "        continue\n",
    "    warped = four_point_transform(img, rect * ratio)\n",
    "    # image preprocessing before OCR\n",
    "    # blur = cv.medianBlur(warped, 3)\n",
    "    # gray = cv.cvtColor(warped, cv.COLOR_BGR2GRAY)\n",
    "    # Otsu thresholding\n",
    "    # th = cv.threshold(gray, 0, 255, cv.THRESH_BINARY_INV | cv.THRESH_OTSU)[1]\n",
    "    # display_image(\"th\", th)\n",
    "    display_image(\"warped\", warped)\n",
    "    text = pytesseract.image_to_string(\n",
    "        cv.cvtColor(warped, cv.COLOR_BGR2GRAY),\n",
    "        config=\"--psm 4 --oem 1\" \n",
    "    )\n",
    "    print(text)\n",
    "    img_texts[file] = text"
   ]
  },
  {
   "cell_type": "markdown",
   "id": "818bea97-dbcb-433c-bbf5-d16200945fb5",
   "metadata": {},
   "source": [
    "**Some important notes about the choice of psm and oem**:\n",
    "1. `psm 4`: need to OCR column data and require text to be concatenated row-wise.\n",
    "2. `oem 1`: LSTM only. Refer to this [blog post](https://www.docsumo.com/blog/tesseract-ocr) for more info."
   ]
  },
  {
   "cell_type": "code",
   "execution_count": 11,
   "id": "d69d677b-c7e0-4af7-a5dd-4503d5bbc6b8",
   "metadata": {},
   "outputs": [
    {
     "data": {
      "text/plain": [
       "['doc_ocr4.jpg',\n",
       " 'receipt.PNG',\n",
       " 'receipt1.jpeg',\n",
       " 'receipt2.webp',\n",
       " 'receipt3.jpg']"
      ]
     },
     "execution_count": 11,
     "metadata": {},
     "output_type": "execute_result"
    }
   ],
   "source": [
    "file_names"
   ]
  },
  {
   "cell_type": "code",
   "execution_count": 12,
   "id": "77f47c9d-e39e-4f85-8faa-12eb6343b3f0",
   "metadata": {},
   "outputs": [
    {
     "data": {
      "text/plain": [
       "{'doc_ocr4.jpg': '|\\nNOT TESTED ON ANIMALS\\n\\npay\\n',\n",
       " 'receipt1.jpeg': 'Main Street Restaurant\\n6332 Business Drive\\n\\nSuite 528\\n\\nPalo Alto california 94301\\n\\n575-1628095\\n\\nFri 04/07/2017 11:36 AM\\n\\nMerchant ID: 9hqjxvufdr\\nTerminal ID: 11111\\nTransaction ID: #e6d598eT\\nType: CREDIT\\nPURCHASE\\nNumber:  XXXXXXXXXXXX0041\\nEntry Mode: Swiped\\nCard Type: DISCOVER\\nResponse: APPROVED\\nApproval Code: 819543\\nSub Total USD$ 25.23\\nViele eA\\nTotal USD$ 29.01\\n\\nThanks for suppor ting\\nlocal business!\\n\\nTHANK YOU\\n',\n",
       " 'receipt2.webp': 'No.\\nReceived from\\n\\nthe sum of pesos\\n\\nRECEIPT\\n\\nDate —\\n\\nHS 108\\n\\nA\\n\\nas payment for\\n\\np\\n\\nSignature\\n',\n",
       " 'receipt3.jpg': 'TESCO\\n\\n— ae ae ome\\n\\nMetro\\nPl TEL 0845 677921¢\\n\\nF9ESH MILK 18\\nMJESLI 2129\\nDARK CHOCOLATE » F\\n26 £0.95 1.90\\n\\nTOTAL 5. Of\\nMASTERCARD SALE 508\\n\\nAID : A0000000041019\\n\\nNJMBER 1 KKK ERHKKKKKKO IGE tcc\\n\\nPAN SEQ NO : 02\\n\\nAUTH CODE ; 036017\\n\\nMERCHANT : 1833431\\n\\nSTART : 10/10 EXPIRY : 11/13\\n\\nCardholder PIN Verified\\nCHANGE QUE\\n\\nR_634004902428294x\\nPOINTS THIS VISIT 5\\nTOTAL UP TO 22/04/12 717\\nTOTAL INCLUDES ;\\nT?F BONUS POINTS 360\\n\\n. “\\n\\nHow did we do?\\nVisit www.tescocomments com and\\ntell us about your shopping trip\\n\\n23/04/12 19:51 2497 004 1004 1625\\n'}"
      ]
     },
     "execution_count": 12,
     "metadata": {},
     "output_type": "execute_result"
    }
   ],
   "source": [
    "img_texts"
   ]
  },
  {
   "cell_type": "markdown",
   "id": "3cb8b049-4382-4481-a8bc-9620221f5d4b",
   "metadata": {},
   "source": [
    "# Save the results in a text file"
   ]
  },
  {
   "cell_type": "code",
   "execution_count": 13,
   "id": "7ff18bbd-72cd-4379-8b18-f10cf38f6543",
   "metadata": {},
   "outputs": [],
   "source": [
    "import os\n",
    "os.makedirs(\"text_outputs\", exist_ok=True)\n",
    "\n",
    "with open(\"text_outputs/output.txt\", \"w\") as f:\n",
    "    for k, v in img_texts.items():\n",
    "        f.writelines(f\"{k}: \\n {v} \\n\\n\")"
   ]
  },
  {
   "cell_type": "markdown",
   "id": "9fe6aaca-2eb6-40a6-a34d-25c6b3bf1313",
   "metadata": {},
   "source": [
    "It is worth noting that rectangle detection pipeline fails to detect the receipt in \"receipt.PNG\""
   ]
  },
  {
   "cell_type": "code",
   "execution_count": null,
   "id": "13d20392-b1a7-4e12-89bc-173ca4421145",
   "metadata": {},
   "outputs": [],
   "source": []
  }
 ],
 "metadata": {
  "kernelspec": {
   "display_name": "Python 3 (ipykernel)",
   "language": "python",
   "name": "python3"
  },
  "language_info": {
   "codemirror_mode": {
    "name": "ipython",
    "version": 3
   },
   "file_extension": ".py",
   "mimetype": "text/x-python",
   "name": "python",
   "nbconvert_exporter": "python",
   "pygments_lexer": "ipython3",
   "version": "3.12.0"
  }
 },
 "nbformat": 4,
 "nbformat_minor": 5
}
