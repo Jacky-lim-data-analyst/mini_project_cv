{
 "cells": [
  {
   "cell_type": "markdown",
   "id": "f9ce05bd-b9cb-4991-ae0a-caddbd587986",
   "metadata": {},
   "source": [
    "# Weekly activities\n",
    "1. Apply custom sharpening kernel of aperture size 3 and 5 as shown below on 'native-bee.png':  \n",
    "$ 3 \\times 3$ kernel:  \n",
    "$ \\begin{bmatrix}\n",
    "0 & -1 & 0 \\\\\n",
    "-1 & 5 & -1 \\\\\n",
    "0 & -1 & 0\\\\\n",
    "\\end{bmatrix}$  \n",
    "$ 5 \\times 5$ kernel:  \n",
    "$ \\begin{bmatrix}\n",
    "-1 & -1 & -1 & -1 & -1 \\\\\n",
    "-1 & -1 & -1 & -1 & -1 \\\\\n",
    "-1 & -1 & 25 & -1 & -1 \\\\\n",
    "-1 & -1 & -1 & -1 & -1 \\\\\n",
    "-1 & -1 & -1 & -1 & -1 \\\\\n",
    "\\end{bmatrix}$  \n",
    "What can you infer from the outputs?\n",
    "2. Apply different image smoothing techniques (e.g. average filter, Gaussian kernel and median filter) on 'noise_lena.jpg' and display the resulting images after the convolution. Comment on the outcomes and deduce the type of noise present on the image.\n",
    "3. Write a program to *segment the boat and the people on it from the background*. Follow the instruction below:\n",
    "    - Use 'boat.jpg' as input.\n",
    "    - Apply Otsu thresholding.\n",
    "    - Draw bounding box to identify the region where the boat and people are located."
   ]
  },
  {
   "cell_type": "markdown",
   "id": "a649fecf-6557-44c6-adf6-8ea756216c0d",
   "metadata": {},
   "source": [
    "# Setup"
   ]
  },
  {
   "cell_type": "code",
   "execution_count": 2,
   "id": "45d356f0-f538-41c5-935b-6e38a21630cd",
   "metadata": {},
   "outputs": [],
   "source": [
    "import cv2 as cv\n",
    "import numpy as np"
   ]
  },
  {
   "cell_type": "markdown",
   "id": "9e585894-3b0b-465a-9101-864872719caf",
   "metadata": {},
   "source": [
    "# Question 1"
   ]
  },
  {
   "cell_type": "code",
   "execution_count": 3,
   "id": "fffb6c81-86d5-42ab-9927-078235415d8a",
   "metadata": {},
   "outputs": [],
   "source": [
    "# Question 1\n",
    "kernel_small = np.array([[0, -1, 0],\n",
    "                        [-1, 5, -1],\n",
    "                        [0, -1, 0]])\n",
    "# Custom 5x5 kernel\n",
    "kernel_big = -np.ones((5, 5))\n",
    "kernel_big[2, 2] = 25\n",
    "\n",
    "img = cv.imread('images/native-bee.png')\n",
    "sharp3_img = cv.filter2D(img, -1, kernel_small)\n",
    "sharp5_img = cv.filter2D(img, -1, kernel_big)\n",
    "\n",
    "cv.imshow('original', img)\n",
    "cv.imshow('small kernel', sharp3_img)\n",
    "cv.imshow('big kernel', sharp5_img)\n",
    "\n",
    "cv.waitKey(0)\n",
    "cv.destroyAllWindows()"
   ]
  },
  {
   "cell_type": "markdown",
   "id": "5d15624c-0ea4-4435-9dff-ff68c2170dad",
   "metadata": {},
   "source": [
    "The larger the kernel size, the more significant the effect of sharpening."
   ]
  },
  {
   "cell_type": "markdown",
   "id": "79fd9a3c-eb6e-479c-ae3c-24ef5fcac941",
   "metadata": {},
   "source": [
    "# Question 2"
   ]
  },
  {
   "cell_type": "code",
   "execution_count": 5,
   "id": "00099951-eb98-46cc-a632-07daed7ea63b",
   "metadata": {},
   "outputs": [],
   "source": [
    "img = cv.imread('images/noise_lena.jpg')\n",
    "\n",
    "k = 5\n",
    "\n",
    "average_blur = cv.blur(img, (k, k))\n",
    "median_blur = cv.medianBlur(img, k)\n",
    "gaussian_blur = cv.GaussianBlur(img, (k, k), 0)\n",
    "\n",
    "cv.imshow('average', average_blur)\n",
    "cv.imshow('median', median_blur)\n",
    "cv.imshow('gaussian', gaussian_blur)\n",
    "cv.waitKey(0)\n",
    "cv.destroyAllWindows()"
   ]
  },
  {
   "cell_type": "markdown",
   "id": "aef884bf-fa49-440b-a0d7-963570ca1c39",
   "metadata": {},
   "source": [
    "**Inference:** The type of noise present is salt and pepper noise."
   ]
  },
  {
   "cell_type": "markdown",
   "id": "a7b5fbfb-9936-434a-9cdc-da27b63bf785",
   "metadata": {},
   "source": [
    "# Question 3\n",
    "\n",
    "## BGR to grayscale"
   ]
  },
  {
   "cell_type": "code",
   "execution_count": 6,
   "id": "a94015f6-b8d2-4003-8237-3c38e5afb9f6",
   "metadata": {},
   "outputs": [],
   "source": [
    "img = cv.imread('images/boat.jpg')\n",
    "gray = cv.cvtColor(img, cv.COLOR_BGR2GRAY)\n",
    "\n",
    "cv.imshow('gray', gray)\n",
    "cv.waitKey(0)\n",
    "cv.destroyAllWindows()"
   ]
  },
  {
   "cell_type": "markdown",
   "id": "1eea0924-5f80-42a5-af18-33e55add84d0",
   "metadata": {},
   "source": [
    "## Gaussian blur and thresholding"
   ]
  },
  {
   "cell_type": "code",
   "execution_count": 7,
   "id": "8bcdc504-fa7e-45f5-9bff-8e09684c3ab3",
   "metadata": {},
   "outputs": [],
   "source": [
    "blur = cv.GaussianBlur(gray, (5, 5), 0)\n",
    "ret, th = cv.threshold(blur, 0, 255, cv.THRESH_BINARY_INV+cv.THRESH_OTSU)\n",
    "\n",
    "cv.imshow('Otsu threshold', th)\n",
    "cv.waitKey(0)\n",
    "cv.destroyAllWindows()"
   ]
  },
  {
   "cell_type": "markdown",
   "id": "3a043ebb-46f6-455c-a6f5-bfe7b6c8d20a",
   "metadata": {},
   "source": [
    "## Draw bounding box"
   ]
  },
  {
   "cell_type": "code",
   "execution_count": 8,
   "id": "2802ff86-5041-42f3-a6a2-34ff6425b61e",
   "metadata": {},
   "outputs": [],
   "source": [
    "foreground_idx = cv.findNonZero(th)\n",
    "foreground_idx_2D = foreground_idx.reshape(-1, 2)\n",
    "\n",
    "coord_max = np.max(foreground_idx_2D, axis=0)\n",
    "coord_min = np.min(foreground_idx_2D, axis=0)\n",
    "\n",
    "cv.rectangle(img, (coord_min[0], coord_min[1]), \n",
    "            (coord_max[0], coord_max[1]), (255, 0, 0), 2,\n",
    "            cv.LINE_AA)\n",
    "\n",
    "cv.imshow('Otsu threshold', th)\n",
    "cv.imshow('bounding box', img)\n",
    "cv.waitKey(0)\n",
    "cv.destroyAllWindows()"
   ]
  },
  {
   "cell_type": "code",
   "execution_count": null,
   "id": "6205cf8c-75b1-477f-8f96-6fbfe8620c3d",
   "metadata": {},
   "outputs": [],
   "source": []
  }
 ],
 "metadata": {
  "kernelspec": {
   "display_name": "Python 3 (ipykernel)",
   "language": "python",
   "name": "python3"
  },
  "language_info": {
   "codemirror_mode": {
    "name": "ipython",
    "version": 3
   },
   "file_extension": ".py",
   "mimetype": "text/x-python",
   "name": "python",
   "nbconvert_exporter": "python",
   "pygments_lexer": "ipython3",
   "version": "3.12.0"
  }
 },
 "nbformat": 4,
 "nbformat_minor": 5
}
