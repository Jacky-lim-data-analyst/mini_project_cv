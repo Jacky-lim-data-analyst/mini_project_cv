{
 "cells": [
  {
   "cell_type": "markdown",
   "id": "23947516",
   "metadata": {},
   "source": [
    "# Tutorial week 3\n",
    "\n",
    "## Leaning outcomes\n",
    "1. Read and save images\n",
    "2. Read and save videos.\n",
    "3. Resize images."
   ]
  },
  {
   "cell_type": "markdown",
   "id": "efbb659c",
   "metadata": {},
   "source": [
    "## Intro of OpenCV in Python\n",
    "Setup procedure:\n",
    "1. Install Python and its IDE, preferably Jupyter notebook.\n",
    "2. Install OpenCV module by the following steps:\n",
    "    - Open cmd terminal\n",
    "    - Type in `pip install opencv-contrib-python`.\n",
    "\n",
    "Before we starts playing around with some of the OpenCV built-in functions, lets briefly walk through what is OpenCV. Created in 1999, OpenCV currently supports a lot of algorithms related to **Computer Vision** and **Machine Learning**. OpenCV supports a wide variety of programming languages like C++, Python and Java and is available on different platforms like Window, Linux and so on.\n",
    "\n",
    "OpenCV-Python is the Python API of OpenCV. OpenCV-Python is a Python wrapper around original C++ implementation. Another upside of using OpenCV-Python is that OpenCV array structures converted to and from Numpy arrays. So, whatever operations you can do in Numpy, you can combine it with OpenCV. All in all, OpenCV-Python is an appropriate tool for fast prototyping of computer vision problems."
   ]
  },
  {
   "cell_type": "markdown",
   "id": "2470aecd",
   "metadata": {},
   "source": [
    "## Setup"
   ]
  },
  {
   "cell_type": "code",
   "execution_count": 1,
   "id": "a5204cd6",
   "metadata": {},
   "outputs": [
    {
     "data": {
      "text/plain": [
       "True"
      ]
     },
     "execution_count": 1,
     "metadata": {},
     "output_type": "execute_result"
    }
   ],
   "source": [
    "import sys\n",
    "# Python 3.7 is required\n",
    "assert sys.version_info >= (3, 7)\n",
    "\n",
    "import cv2 as cv\n",
    "import numpy as np\n",
    "\n",
    "# Make sure that OpenCV optimization is enabled\n",
    "if not cv.useOptimized():\n",
    "    cv.setUseOptimized(True)\n",
    "    \n",
    "cv.useOptimized()"
   ]
  },
  {
   "cell_type": "markdown",
   "id": "fedb373f",
   "metadata": {},
   "source": [
    "## Different formats of images\n",
    "There are wide variety of image file types out there. We will discuss a few common image formats, including:\n",
    "1. TIFF(.tif)\n",
    "    * Used for storing high quality images with detailed color information, thus it is one of the preferred format in printing and publishing.\n",
    "    * Large file size & limited web support.\n",
    "2. BMP(.bmp)\n",
    "    * *Uncompressed* BMP file could have much larger file size compared to JPEG and PNG. \n",
    "    * device-independent.\n",
    "    * Higher quality that JPEG images.\n",
    "3. GIF(.gif)\n",
    "    * GIF files can store multiple frames, enabling simple animations.\n",
    "    * GIF files can have transparent backgrounds, similar to PNG.\n",
    "    * `cv.imread()` function can't handle this format, we need other external module.\n",
    "4. JPEG(.jpeg, .jpg, .jfif)\n",
    "    * *Lossy* compression\n",
    "    * JPEG is highly popular supported by virtually all image editing softwares and browsers.\n",
    "5. PNG(.png)\n",
    "    * *Lossless* compression and supports transparency.\n",
    "    * Has larger file size compared to JPEG\n",
    "    * widely supported, similar to JPEG\n",
    "6. WebP(.webp)\n",
    "    * Allows websites to display high-quality images.\n",
    "    * Offers smaller file sizes compared to JPEG and PNG. Uncompressed WebP images are 1.42x smaller than JPEG and 1.7x smaller than PNG ([link](https://www.google.com/url?sa=t&source=web&rct=j&opi=89978449&url=https://photutorial.com/image-format-comparison-statistics/)).\n",
    "\n",
    "Each format serves different purposes, and the choice depends on the specific needs of image quality, file size, compatibility, and intended use.\n",
    "\n",
    "| Image file types | Frequent use cases |\n",
    "| ----- | ----- |\n",
    "| TIFF | High quality archiving and printing |\n",
    "| PNG | Web graphics with transparency |\n",
    "| JPEG | Web use and sharing |\n",
    "| WebP | Alternatives to JPEG |\n",
    "| GIF | Animation |\n",
    "| BMP | High-quality editing |"
   ]
  },
  {
   "cell_type": "markdown",
   "id": "e4e0ccad",
   "metadata": {},
   "source": [
    "## Read an image\n",
    "Let's try to read all the images into the workspace.\n",
    "Before that, let's set our eye to `imread()` function:\n",
    "```{python}\n",
    "cv.imread(filename, flag)\n",
    "```\n",
    "It takes 2 arguments:\n",
    "* `filename` - image file name (Note: specify the whole path if the image is not in the working directory).\n",
    "* `flag` -  specify how image should be represented.\n",
    "    - `cv.IMREAD_UNCHANGED` or -1\n",
    "    - `cv.IMREAD_GRAYSCALE` or 0\n",
    "    - `cv.IMREAD_COLOR` or 1 (default)\n",
    "    \n",
    "More `flag` arguments for `cv.imread()`, please refer to the [online documentation](https://docs.opencv.org/4.x/d8/d6a/group__imgcodecs__flags.html#ga61d9b0126a3e57d9277ac48327799c80).\n",
    "\n",
    "## Display image\n",
    "You can display image using `imshow()` function:\n",
    "```{python}\n",
    "cv.imshow(window_name, image)\n",
    "```\n",
    "This function takes 2 arguments:\n",
    "1. `window_name` - window name that will be displayed.\n",
    "2. `image` - image (Numpy array)\n",
    "\n",
    "To display multiple images at once, you can <mark>call this function multiple times.</mark>\n",
    "\n",
    "The `cv.imshow()` function is designed to use alongside `cv.waitKey()` and `cv.destroyAllWindows()` or `cv.destroyWindow()` functions.\n",
    "\n",
    "`cv.waitKey()` function is a keyboard-binding function. It takes single argument, which is time (miliseconds). If the user press any key within this period, the program continues. If 0 is passed, the program waits indefinitely for a keystroke. You can set the function to detect a specific keystroke like Esc key and any alphabet. For ASCII code of keyboard, please refer to this [link](https://theasciicode.com.ar/).\n",
    "\n",
    "`cv.destroyAllWindows()` destroys all windows we created. "
   ]
  },
  {
   "cell_type": "code",
   "execution_count": 2,
   "id": "94b5a709",
   "metadata": {},
   "outputs": [],
   "source": [
    "img = cv.imread('images/lena.jfif')\n",
    "img_grayscale = cv.imread('images/lena.jfif', 0)\n",
    "\n",
    "cv.imshow(\"original\", img)\n",
    "cv.imshow('grayscale', img_grayscale)\n",
    "cv.waitKey(0)\n",
    "cv.destroyAllWindows()"
   ]
  },
  {
   "cell_type": "code",
   "execution_count": 3,
   "id": "adc8a89b",
   "metadata": {},
   "outputs": [],
   "source": [
    "# TIFF\n",
    "img = cv.imread('images/lena.tif')\n",
    "cv.imshow('TIFF image', img)\n",
    "cv.waitKey(0)\n",
    "cv.destroyAllWindows()"
   ]
  },
  {
   "cell_type": "code",
   "execution_count": 6,
   "id": "8daacb7b",
   "metadata": {},
   "outputs": [],
   "source": [
    "img = cv.imread('images/lena.png')\n",
    "cv.imshow('PNG image', img)\n",
    "cv.waitKey(0)\n",
    "cv.destroyAllWindows()"
   ]
  },
  {
   "cell_type": "markdown",
   "id": "25c288e3",
   "metadata": {},
   "source": [
    "**Warning** ⚠️\n",
    "___\n",
    "You will run into execution error if you use `cv.imread` on GIF file. The workaround is we need to load the gif to `numpy.ndarray` and change the channel orders. You can refer to this [stackoverflow post](https://stackoverflow.com/questions/48163539/how-to-read-gif-from-url-using-opencv-python) for more info."
   ]
  },
  {
   "cell_type": "code",
   "execution_count": 4,
   "id": "d3881407",
   "metadata": {},
   "outputs": [],
   "source": [
    "import imageio"
   ]
  },
  {
   "cell_type": "code",
   "execution_count": 5,
   "id": "89f07348",
   "metadata": {},
   "outputs": [],
   "source": [
    "gif = imageio.mimread('images/rotating_earth_large.gif')\n",
    "# Convert from RGB to BGR format\n",
    "imgs = [cv.cvtColor(img, cv.COLOR_RGB2BGR) for img in gif]\n",
    "cv.imshow('GIF image', imgs[0])\n",
    "cv.waitKey(0)\n",
    "cv.destroyAllWindows()"
   ]
  },
  {
   "cell_type": "markdown",
   "id": "eda99351",
   "metadata": {},
   "source": [
    "## Save image\n",
    "The function is `cv.imwrite()`:\n",
    "```{python}\n",
    "cv.imwrite(filename, image)\n",
    "```\n",
    "It takes 2 arguments:\n",
    "* `filename` - must include the image file extension, like .jpg, .png, and etc)\n",
    "* `image` - image (Numpy array)"
   ]
  },
  {
   "cell_type": "code",
   "execution_count": 7,
   "id": "019e933e",
   "metadata": {},
   "outputs": [
    {
     "data": {
      "text/plain": [
       "True"
      ]
     },
     "execution_count": 7,
     "metadata": {},
     "output_type": "execute_result"
    }
   ],
   "source": [
    "cv.imwrite('lena_save.jpg', img)"
   ]
  },
  {
   "cell_type": "markdown",
   "id": "9d8cf024",
   "metadata": {},
   "source": [
    "## Basic Video operations using OpenCV\n",
    "\n",
    "A video is nothing but a series of images knit together. These image are often called frames. So, what you need to do is loop over all the frames in sequences, and then process one frame at a time.\n",
    "\n",
    "### Read and display video from file\n",
    "Use `cv.VideoCapture()` class to invoke a VideoCapture object which is useful to read video file.\n",
    "```{python}\n",
    "cv.VideoCapture(path, apiPreference)\n",
    "```\n",
    "The function has 2 arguments:\n",
    "1. `path` - directory path to the video file. 0 for webcam capture.\n",
    "2. `apiPreference` - optional\n",
    "\n",
    "Furthermore, there are some methods related to `VideoCapture` object that are worth mentioning:\n",
    "* `isOpened()` method returns a boolean indicating whether a video file is opened successfully. \n",
    "* `read()` returns the video frame.\n",
    "* `get()` method retrive metadata associated with the video. It takes one argument (enumerator). `get(3)` --> width of frame, `get(4)` --> height of frame, `get(5)` --> frame rate. More info, please refer to this [online documentation](https://docs.opencv.org/2.4/modules/highgui/doc/reading_and_writing_images_and_video.html)\n",
    "\n",
    "How to read image frames from the file? Create a loop and read one frame at a time from the video stream using `read()` method. It returns a tuple, where the first element is a boolean and the second argument is the video frame.\n",
    "\n",
    "### Save videos\n",
    "In order to save a video file, you first need to create a video writer object from `cv.VideoWriter()` class. Syntax for `cv.VideoWriter()`:\n",
    "```python\n",
    "cv.VideoWriter(filename, fourcc, fps, framesize, isColor)\n",
    "```\n",
    "It takes 5 arguments:\n",
    "* `filename` - file path name\n",
    "* `fourcc` - 4-character code of codec. Fourcc is a 32 bit (4 byte) ASCII Character code used to uniquely identifies video formats. Below are the video codecs which corresponds to .avi video.\n",
    "    - `cv.VideoWriter_fourcc('M', 'J', 'P', 'G')` for .avi video file\n",
    "    - `cv.VideoWriter_fourcc(*'MP4V')` for .mp4 file\n",
    "* `fps`: frame rate per second\n",
    "* `framesize`: (width, height) of frame\n",
    "* `isColor`: if not zero (default: `True`), the encoder will encode color frames.\n",
    "\n",
    "The associated method to save the video file is `write(frame)`.\n",
    "\n",
    "**Note** 🗈\n",
    "---\n",
    "> [Fourcc](https://softron.zendesk.com/hc/en-us/articles/207695697-List-of-FourCC-codes-for-video-codecs) is identifier for the video codec, compression format, and color / pixel format in video files. I found combination of _MJPG_ and _.avi_ worked on my laptop and PC running on Windows 11. If your workstations are of different OS, you might have to try out other combinations."
   ]
  },
  {
   "cell_type": "code",
   "execution_count": 9,
   "id": "2cadc872",
   "metadata": {},
   "outputs": [],
   "source": [
    "# Create a VideoCapture object\n",
    "cap = cv.VideoCapture('videos/img_pexels.mp4')\n",
    "\n",
    "# Check if the object has been created successfully\n",
    "if not cap.isOpened():\n",
    "    raise Exception(\"No video detected\")\n",
    "    \n",
    "# Read the frames with loop\n",
    "while cap.isOpened():\n",
    "    ret, frame = cap.read()\n",
    "    \n",
    "    if not ret:\n",
    "        print(\"Can't receive frame\")\n",
    "        break\n",
    "        \n",
    "    cv.namedWindow(\"frame\", cv.WINDOW_NORMAL)\n",
    "    cv.imshow('frame', frame)\n",
    "    # Press Esc key to exit (27 is ASCII code for Esc). cv.waitKey() returns 32 bit integer values. You can find the ASCII table\n",
    "    # on this URL: https://theasciicode.com.ar/\n",
    "    if cv.waitKey(1) & 0xFF == 27:\n",
    "        break\n",
    "        \n",
    "cap.release()\n",
    "cv.destroyAllWindows()"
   ]
  },
  {
   "cell_type": "code",
   "execution_count": 10,
   "id": "1cb3fe81",
   "metadata": {},
   "outputs": [],
   "source": [
    "# Webcam\n",
    "cap = cv.VideoCapture(0)\n",
    "\n",
    "width = int(cap.get(3))\n",
    "height = int(cap.get(4))\n",
    "# define the codec and create VideoWriter object\n",
    "fourcc = cv.VideoWriter_fourcc('M', 'J', 'P', 'G')\n",
    "fps = 20\n",
    "out = cv.VideoWriter('videos/out.avi', fourcc, fps, (width, height))\n",
    "\n",
    "while cap.isOpened():\n",
    "    ret, frame = cap.read()\n",
    "    \n",
    "    if not ret:\n",
    "        print(\"Can't receive frame\")\n",
    "        break\n",
    "    # horizontal flip    \n",
    "    frame = cv.flip(frame, 1)\n",
    "    # write the flipped frame\n",
    "    out.write(frame)\n",
    "    \n",
    "    cv.imshow('frame', frame)\n",
    "    if cv.waitKey(1) & 0xFF == 27:\n",
    "        break\n",
    "        \n",
    "cap.release()\n",
    "out.release()\n",
    "cv.destroyAllWindows()"
   ]
  },
  {
   "cell_type": "markdown",
   "id": "52e8edc4",
   "metadata": {
    "slideshow": {
     "slide_type": "slide"
    }
   },
   "source": [
    "## Image resizing\n",
    "To resize an image, scale it along each axis (height and width), considering the specified _scale factors_ or set the _desired height and width_.\n",
    "\n",
    "When resizing an image:\n",
    "- It is important to be mindful of the original aspect ratio of the image.\n",
    "- Reducing the size of image requires resampling of pixels.\n",
    "- Enlarging requires reconstruction through interpolation. Common interpolation are available in OpenCV:\n",
    "    * `cv.INTER_NEAREST`: nearest neighbor interpolation.\n",
    "    * `cv.INTER_LINEAR`: bilinear interpolation.\n",
    "    * `cv.INTER_CUBIC`: bicubic interpolation (generally slower).\n",
    "More info can be found in OpenCV [online documentation](https://docs.opencv.org/4.x/da/d54/group__imgproc__transform.html#ga5bb5a1fea74ea38e1a5445ca803ff121)\n",
    "\n",
    "> **NOTE:** There are a handful of choice of interpolation methods. The details of the methods will not be discussed here, but will be left as exercise.\n",
    "\n",
    "The function for image resizing is `cv.resize()`:\n",
    "```python\n",
    "cv.resize(src, dsize, fx, fy, interpolation)\n",
    "```\n",
    "1. First argument is the input image.\n",
    "2. dsize: the desired output image dimension.\n",
    "3. fx: scale factor along horizontal axis (width).\n",
    "4. fy: scale factor along vertical axis (height).\n",
    "5. interpolation: option flags stated above.\n",
    "\n",
    "### Example 1: Specify specific output dimension"
   ]
  },
  {
   "cell_type": "code",
   "execution_count": 15,
   "id": "ec2e719b",
   "metadata": {},
   "outputs": [],
   "source": [
    "img = cv.imread('images/soccer.jpg')\n",
    "\n",
    "cv.imshow('original', img)\n",
    "cv.waitKey(0)\n",
    "cv.destroyAllWindows()"
   ]
  },
  {
   "cell_type": "code",
   "execution_count": 16,
   "id": "0c17f67a",
   "metadata": {},
   "outputs": [],
   "source": [
    "new_width = 300\n",
    "new_height = 450\n",
    "\n",
    "img_resize = cv.resize(img, (new_width, new_height), interpolation=cv.INTER_LINEAR)\n",
    "\n",
    "cv.imshow('downscale', img_resize)\n",
    "cv.waitKey(0)\n",
    "cv.destroyAllWindows()"
   ]
  },
  {
   "cell_type": "markdown",
   "id": "461e1a80",
   "metadata": {
    "slideshow": {
     "slide_type": "slide"
    }
   },
   "source": [
    "### Example 2: Resizing with a scaling factor\n",
    "The advantage of using scaling factor for resizing is that it keeps the aspect ratio intact and preserve the display quality."
   ]
  },
  {
   "cell_type": "code",
   "execution_count": 17,
   "id": "61f9dd82",
   "metadata": {},
   "outputs": [],
   "source": [
    "img = cv.imread('images/lena.jfif')\n",
    "\n",
    "img_resize = cv.resize(img, None, fx=1.5, fy=1.5, interpolation=cv.INTER_LINEAR)\n",
    "\n",
    "cv.imshow('upscale', img_resize)\n",
    "cv.waitKey(0)\n",
    "cv.destroyAllWindows()"
   ]
  },
  {
   "cell_type": "markdown",
   "id": "1bd18d01",
   "metadata": {},
   "source": [
    "## Exercises\n",
    "\n",
    "1. Load and display the image 'dog.jfif'. Save the image in png format.\n",
    "2. *Suggest 2 ways and write codes to display 2 images simultaneously.* You can use any image snapped from your handphone, downloaded from internet or images from weekly materials on MS teams. The 2 images are original color image and its corresponding grayscale image.\n",
    "3. Write codes that performs the following:\n",
    "    * Load the video “img_pexels.mp4” into the Python environment, resize it and display the videos with smaller frames (The frames can be of any size, as long as it is smaller). You can specify an arbitrary frame rate.\n",
    "    * Save it as a separate files: “smaller_img_pexels.avi” or \"smaller_img_pexels.mp4\"\n",
    "4. Enlarge the image \"dog.jfif\" by using different techniques:\n",
    "    1) Linear interpolation\n",
    "   2) Cubic interpolation\n",
    "   3) Nearest neighbor interpolation.\n",
    "\n",
    "Perform profiling on each method. Comment on the **execution times** and **quality of resulting images**."
   ]
  },
  {
   "cell_type": "code",
   "execution_count": null,
   "id": "f039b363",
   "metadata": {},
   "outputs": [],
   "source": []
  }
 ],
 "metadata": {
  "kernelspec": {
   "display_name": "Python 3 (ipykernel)",
   "language": "python",
   "name": "python3"
  },
  "language_info": {
   "codemirror_mode": {
    "name": "ipython",
    "version": 3
   },
   "file_extension": ".py",
   "mimetype": "text/x-python",
   "name": "python",
   "nbconvert_exporter": "python",
   "pygments_lexer": "ipython3",
   "version": "3.12.0"
  }
 },
 "nbformat": 4,
 "nbformat_minor": 5
}
