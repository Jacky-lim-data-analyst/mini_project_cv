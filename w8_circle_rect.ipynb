{
 "cells": [
  {
   "cell_type": "markdown",
   "id": "84ce294c-f30f-4cc9-8489-f34819031aa9",
   "metadata": {},
   "source": [
    "# Workflow\n",
    "![shape-based approach](img_embed/w8_circle_detection.webp)"
   ]
  },
  {
   "cell_type": "markdown",
   "id": "12372c0f-1835-4879-8716-05329bc6474d",
   "metadata": {},
   "source": [
    "# Circles detection\n",
    "\n",
    "## Step 0: Setup"
   ]
  },
  {
   "cell_type": "code",
   "execution_count": 2,
   "id": "22b4d9e3-90c9-4383-a24b-ae3394a0fc86",
   "metadata": {},
   "outputs": [],
   "source": [
    "from utils import display_image, display_images, auto_canny\n",
    "import cv2 as cv\n",
    "import numpy as np"
   ]
  },
  {
   "cell_type": "markdown",
   "id": "7fd9c99f-9c6f-4980-8c61-f594dccefdf1",
   "metadata": {},
   "source": [
    "## Step 1: Load image"
   ]
  },
  {
   "cell_type": "code",
   "execution_count": 3,
   "id": "d73b287c-625b-42d6-96ed-b2ccbcdd2813",
   "metadata": {},
   "outputs": [],
   "source": [
    "img = cv.imread(\"images/w8/circles/clock.jpg\")\n",
    "display_image(\"image\", img)"
   ]
  },
  {
   "cell_type": "markdown",
   "id": "6c0b7e77-6fe6-4eb4-8c99-3f1a5dd0ae76",
   "metadata": {},
   "source": [
    "## Step 2: Define parameter settings"
   ]
  },
  {
   "cell_type": "code",
   "execution_count": 9,
   "id": "1e469cda-a764-42fc-adc2-963c85580f16",
   "metadata": {},
   "outputs": [],
   "source": [
    "max_width = 400\n",
    "ksize = 7\n",
    "canny_method = \"triangle\"\n",
    "min_circularity = 0.85\n",
    "min_area = 400"
   ]
  },
  {
   "cell_type": "markdown",
   "id": "89cad275-c4fa-4048-9397-4bba5ec687cb",
   "metadata": {},
   "source": [
    "## Step 3: Major workflow diagram"
   ]
  },
  {
   "cell_type": "code",
   "execution_count": 4,
   "id": "20c95ffc-5d29-4b38-94d8-23279f3c1270",
   "metadata": {},
   "outputs": [],
   "source": [
    "# define a utility function to filter contour by area\n",
    "def filterFunc(x):\n",
    "    \"\"\"Filter function to filter x\n",
    "    Arguments:\n",
    "    ---\n",
    "    x: list of contours (outputs of cv.findContours())\n",
    "    \n",
    "    Returns:\n",
    "    ---\n",
    "    Boolean\"\"\"\n",
    "    if cv.contourArea(x) > min_area:\n",
    "        return True\n",
    "    else:\n",
    "        return False"
   ]
  },
  {
   "cell_type": "code",
   "execution_count": 11,
   "id": "64a67ca5-c483-41bf-8792-04aba1b97422",
   "metadata": {},
   "outputs": [],
   "source": [
    "# main function\n",
    "def circle_detector(img, min_circularity=min_circularity, canny_method=canny_method, ksize=ksize):\n",
    "    \"\"\"Function that can detect circular objects\n",
    "    Arguments:\n",
    "    ---\n",
    "    img: source image (uint8)\n",
    "    min_circularity: minimum threshold of circularity\n",
    "    canny_method: auto_canny methods: \"triangle\", \"otsu\" or \"median\"\n",
    "    ksize: Gaussian blur kernel size\n",
    "    Returns:\n",
    "    ---\n",
    "    contours of circular objects\"\"\"\n",
    "    # copy\n",
    "    # img_copy = img.copy()\n",
    "    # resize\n",
    "    # f = max_width / img.shape[1]\n",
    "    # img = cv.resize(img, None, fx=f, fy=f, interpolation=cv.INTER_CUBIC)\n",
    "\n",
    "    # change to grayscale\n",
    "    gray = cv.cvtColor(img, cv.COLOR_BGR2GRAY)\n",
    "    # blur\n",
    "    gray = cv.GaussianBlur(gray, (ksize, ksize), 0)\n",
    "    # canny edge detection\n",
    "    edge = auto_canny(gray, method=canny_method)\n",
    "\n",
    "    # Contour\n",
    "    contours, _ = cv.findContours(edge, cv.RETR_EXTERNAL, cv.CHAIN_APPROX_SIMPLE)\n",
    "    # filter by area and circularity\n",
    "    # contour = contours[0]\n",
    "    contours_filtered = filter(filterFunc, contours)\n",
    "\n",
    "    circular_obj = []\n",
    "    for cnt in contours_filtered:\n",
    "        area = cv.contourArea(cnt)\n",
    "        peri = cv.arcLength(cnt, True)\n",
    "        try:\n",
    "            circularity = (4 * np.pi * area) / peri\n",
    "            if circularity > min_circularity:\n",
    "                circular_obj.append(cnt)\n",
    "        except:\n",
    "            continue\n",
    "            \n",
    "    # cv.drawContours(img_resized, cnts, -1, (0, 255, 0), 2)\n",
    "    return circular_obj"
   ]
  },
  {
   "cell_type": "markdown",
   "id": "59a5f5e7-51fe-4cff-85a1-43d8d1ec1e69",
   "metadata": {},
   "source": [
    "## Step 4: Run the pipeline on all the images"
   ]
  },
  {
   "cell_type": "code",
   "execution_count": 12,
   "id": "4f0f08b3-6805-4313-981e-d8b97f86f57a",
   "metadata": {},
   "outputs": [],
   "source": [
    "import os\n",
    "\n",
    "img_dir = \"./images/w8/circles/\"\n",
    "file_names = os.listdir(img_dir)\n",
    "\n",
    "for filename in file_names:\n",
    "    filepath = os.path.join(img_dir, filename)\n",
    "    img = cv.imread(cv.samples.findFile(filepath))\n",
    "    f = max_width / img.shape[1]\n",
    "    img = cv.resize(img, None, fx=f, fy=f, interpolation=cv.INTER_CUBIC)\n",
    "    img_copy = img.copy()\n",
    "    cnts = circle_detector(img_copy)\n",
    "    cv.drawContours(img, cnts, -1, (0, 255, 0), 2)\n",
    "    cv.putText(img, f\"# circles detected: {len(cnts)}\", (20, 20), cv.FONT_HERSHEY_SIMPLEX,\n",
    "              0.5, (0, 255, 0))\n",
    "    display_images([img_copy, img], (\"resized\", \"detect circles\"))\n",
    "    cv.imwrite(img_dir + f\"{filename}_res.jpg\", img)\n",
    "\n",
    "img_dir = \"\""
   ]
  },
  {
   "cell_type": "markdown",
   "id": "6c11acf8-0b05-4af5-8ba3-62acc9c7a67d",
   "metadata": {},
   "source": [
    "# Circle detector (alternate method: Hough Transform)"
   ]
  },
  {
   "cell_type": "code",
   "execution_count": 26,
   "id": "341f91d3-504c-452f-a349-326a7e5c7858",
   "metadata": {},
   "outputs": [],
   "source": [
    "# Hough transform parameters\n",
    "dp = 4   # accumulator resolution\n",
    "param1 = 400  # upper Canny threshold\n",
    "param2 = 0.97   # perfectness of cirles\n",
    "minRadius = 50\n",
    "\n",
    "ksize = 5\n",
    "max_width = 500\n",
    "\n",
    "# minimum distance between circles and maximum radius of circles depends on the image width\n",
    "def circle_hough_detector(img, ksize=ksize):\n",
    "    \"\"\"Hough circle transform\"\"\"\n",
    "    gray = cv.cvtColor(img, cv.COLOR_BGR2GRAY)\n",
    "    blur = cv.GaussianBlur(gray, (ksize, ksize), 0)\n",
    "\n",
    "    width = gray.shape[1]\n",
    "    circles = cv.HoughCircles(blur, cv.HOUGH_GRADIENT_ALT, dp, width / 6, \n",
    "                             param1=param1, param2=param2, minRadius=minRadius, maxRadius=int(0.4*width))\n",
    "    if circles is not None:\n",
    "        return circles[0]"
   ]
  },
  {
   "cell_type": "code",
   "execution_count": 27,
   "id": "cef12e5e-5a52-472d-a0a9-f883ae994851",
   "metadata": {},
   "outputs": [],
   "source": [
    "import os\n",
    "\n",
    "img_dir = \"./images/w8/circles/\"\n",
    "file_names = os.listdir(img_dir)\n",
    "\n",
    "for filename in file_names:\n",
    "    filepath = os.path.join(img_dir, filename)\n",
    "    img = cv.imread(cv.samples.findFile(filepath))\n",
    "    f = max_width / img.shape[1]\n",
    "    img = cv.resize(img, None, fx=f, fy=f, interpolation=cv.INTER_CUBIC)\n",
    "    img_copy = img.copy()\n",
    "    circles = circle_hough_detector(img_copy)\n",
    "    if circles is not None:\n",
    "        circles = np.uint16(np.round(circles))\n",
    "        \n",
    "        for i in circles:\n",
    "            center = (i[0], i[1])\n",
    "            cv.circle(img_copy, center, 1, (0, 0, 255), 1)\n",
    "            radius = i[2]\n",
    "            cv.circle(img_copy, center, radius, (100, 50, 200), 2)\n",
    "    cv.putText(img_copy, f\"# circles: {len(circles)}\", (30, 30), \n",
    "              cv.FONT_HERSHEY_SIMPLEX, 0.6, (0, 255, 0), 2)\n",
    "    display_image(f\"{filename} result\", img_copy)\n",
    "\n",
    "img_dir = \"\""
   ]
  },
  {
   "cell_type": "markdown",
   "id": "46f626c6-2e7b-43b2-a242-136f6a75547c",
   "metadata": {},
   "source": [
    "# Rectangle detection\n",
    "\n",
    "## Step 0: Setup"
   ]
  },
  {
   "cell_type": "code",
   "execution_count": 1,
   "id": "c7718011-6779-40e1-abdf-57cfbe29af0c",
   "metadata": {},
   "outputs": [],
   "source": [
    "from utils import display_image, display_images, auto_canny, resize_aspect_ratio\n",
    "import cv2 as cv\n",
    "import numpy as np"
   ]
  },
  {
   "cell_type": "code",
   "execution_count": 14,
   "id": "1f29fd4b-3070-4f57-be77-ab80aa9b1a8c",
   "metadata": {},
   "outputs": [],
   "source": [
    "# def enhance_contrast(img):\n",
    "#     \"\"\"\"\"\"\n",
    "#     img_lab = cv.cvtColor(img, cv.COLOR_BGR2LAB)\n",
    "#     l, a, b = cv.split(img_lab)\n",
    "#     # clahe = cv.createCLAHE(clipLimit=10, tileGridSize=(20, 20))\n",
    "#     # l_enhanced = clahe.apply(l)\n",
    "#     l_enhanced = cv.equalizeHist(l)\n",
    "#     img_enhanced = cv.merge((l_enhanced, a, b))\n",
    "#     return cv.cvtColor(img_enhanced, cv.COLOR_LAB2BGR)"
   ]
  },
  {
   "cell_type": "markdown",
   "id": "2e2be825-8ef7-4eea-8a50-0ada0c05544f",
   "metadata": {},
   "source": [
    "## Step 1: Load image"
   ]
  },
  {
   "cell_type": "code",
   "execution_count": 2,
   "id": "99bdcebc-d20b-48ef-be71-bc8a7e174654",
   "metadata": {},
   "outputs": [],
   "source": [
    "img = cv.imread(\"images/w8/rectangles/ipad.jpg\")\n",
    "display_image(\"image\", img)"
   ]
  },
  {
   "cell_type": "markdown",
   "id": "4690ec48-3c58-4e53-aed7-e21da9cad775",
   "metadata": {},
   "source": [
    "## Step 3: Setup pipeline\n",
    "1. Load image and visualize\n",
    "2. Resize\n",
    "3. Contrast enhancement\n",
    "4. Grayscale\n",
    "5. Automatic Canny edge detector\n",
    "6. Contour detection and post processing\n",
    "7. Draw contour and insert text to show how many rectangular object is detected."
   ]
  },
  {
   "cell_type": "code",
   "execution_count": 3,
   "id": "8d9d5f06-432e-47c9-993d-1c351b77facd",
   "metadata": {},
   "outputs": [],
   "source": [
    "min_area = 600\n",
    "def filterFunc(x):\n",
    "    \"\"\"Filter function to filter x\n",
    "    Arguments:\n",
    "    ---\n",
    "    x: list of contours (outputs of cv.findContours())\n",
    "    \n",
    "    Returns:\n",
    "    ---\n",
    "    Boolean\"\"\"\n",
    "    if cv.contourArea(x) > min_area:\n",
    "        return True\n",
    "    else:\n",
    "        return False"
   ]
  },
  {
   "cell_type": "code",
   "execution_count": 7,
   "id": "2309a83f-aabf-4adb-b9fe-25644b21047f",
   "metadata": {},
   "outputs": [],
   "source": [
    "max_width = 500\n",
    "canny_method = \"median\"\n",
    "frac_peri = 0.02"
   ]
  },
  {
   "cell_type": "code",
   "execution_count": 8,
   "id": "403b08cb-e40b-437d-9a78-b4e078d582d4",
   "metadata": {},
   "outputs": [],
   "source": [
    "def rect_detector(img, max_width=max_width, canny_method=canny_method, frac_peri=frac_peri, debug=False):\n",
    "    \"\"\"\"\"\"\n",
    "    # resize\n",
    "    resized = resize_aspect_ratio(img, width=max_width)\n",
    "    resized_copy = resized.copy()\n",
    "    # enhance contrast\n",
    "    # resized = cv.GaussianBlur(resized, (9, 9), 0)\n",
    "    resized = cv.pyrMeanShiftFiltering(resized, 21, 41)\n",
    "    resized = cv.GaussianBlur(resized, (3, 3), 0)\n",
    "    if debug:\n",
    "        display_images([img, resized], (\"original\", \"ce\"))\n",
    "    # grayscale\n",
    "    gray = cv.cvtColor(resized, cv.COLOR_BGR2GRAY)\n",
    "    # Canny\n",
    "    edge = auto_canny(gray, method=canny_method)\n",
    "    if debug:\n",
    "        display_image(\"edge\", edge)\n",
    "    # Contour\n",
    "    contours, _ = cv.findContours(edge, cv.RETR_EXTERNAL, cv.CHAIN_APPROX_SIMPLE)\n",
    "    contours_filtered = filter(filterFunc, contours)\n",
    "    \n",
    "    rect_cnts = []\n",
    "    for cnt in contours_filtered:\n",
    "        if cv.contourArea(cnt) <= min_area:\n",
    "            continue\n",
    "        else:\n",
    "            peri = cv.arcLength(cnt, True)\n",
    "            approx = cv.approxPolyDP(cnt, frac_peri * peri, True)\n",
    "        \n",
    "            if len(approx) == 4:\n",
    "                rect_cnts.append(approx)\n",
    "    \n",
    "    cv.drawContours(resized_copy, rect_cnts, -1, (0, 255, 0))\n",
    "    if debug:\n",
    "        display_image(\"contour\", resized)\n",
    "    return resized_copy, rect_cnts"
   ]
  },
  {
   "cell_type": "code",
   "execution_count": 9,
   "id": "aee66786-a4e8-4f87-94e0-1abccb5461c2",
   "metadata": {},
   "outputs": [],
   "source": [
    "import os\n",
    "\n",
    "img_dir = \"./images/w8/rectangles/\"\n",
    "filenames = os.listdir(img_dir)\n",
    "\n",
    "for file in filenames:\n",
    "    filepath = os.path.join(img_dir, file)\n",
    "    img = cv.imread(cv.samples.findFile(filepath))\n",
    "    dst, rects = rect_detector(img)\n",
    "    item = file.split(\".\")[0]\n",
    "    cv.putText(dst, f\"{item} detected: {len(rects)}\", (25, 25), \n",
    "              cv.FONT_HERSHEY_SIMPLEX, 0.8, (0, 255, 0), 2)\n",
    "    display_images([img, dst], (\"original\", \"detect\"))\n",
    "    file_save_name = f\"{item}_res.jpg\"\n",
    "    cv.imwrite(img_dir + file_save_name, dst)\n",
    "\n",
    "img_dir = \"\""
   ]
  },
  {
   "cell_type": "code",
   "execution_count": null,
   "id": "40aa629f-3cc8-4396-8e24-156440a4e313",
   "metadata": {},
   "outputs": [],
   "source": []
  }
 ],
 "metadata": {
  "kernelspec": {
   "display_name": "Python 3 (ipykernel)",
   "language": "python",
   "name": "python3"
  },
  "language_info": {
   "codemirror_mode": {
    "name": "ipython",
    "version": 3
   },
   "file_extension": ".py",
   "mimetype": "text/x-python",
   "name": "python",
   "nbconvert_exporter": "python",
   "pygments_lexer": "ipython3",
   "version": "3.12.0"
  }
 },
 "nbformat": 4,
 "nbformat_minor": 5
}
