{
 "cells": [
  {
   "cell_type": "markdown",
   "id": "282bdcd1-939d-4774-87ea-c6a532ef91f5",
   "metadata": {},
   "source": [
    "# Weekly activity\n",
    "1. Create a **random noise color and grayscale** image. You can set your own width and height, but keep the total number of pixels of both images identical.\n",
    "2. Convert the code chunk found under section. Divide an image into smaller patches using cropping into a function with the following signature:\n",
    "```python\n",
    "crop_grid(img, num_horizontal_grid, num_vertical_grid, line_color)\n",
    " # img is the source image\n",
    " # num_horizontal_grid and num_vertical_grid are the number of patches along x and y axes.\n",
    " # line_color is the color of the grid line.\n",
    " # The output of the function should be image with grids\n",
    "```\n",
    "3. How would you *change the brightness* of a **color image**? Suggest **two ways** to perform the image processing operations. Implement your methods by providing the example codes. You are free to choose any image.\n",
    "4. Provide at least one common use case(s) for the following color spaces:\n",
    "    - RGB\n",
    "    - HSV\n",
    "    - CIELAB"
   ]
  },
  {
   "cell_type": "markdown",
   "id": "a8f3de22-b86d-4f11-bd1e-dead69faa67f",
   "metadata": {},
   "source": [
    "# Setup"
   ]
  },
  {
   "cell_type": "code",
   "execution_count": 1,
   "id": "057f694b-d7ee-4f1c-afbe-cdda64527796",
   "metadata": {},
   "outputs": [],
   "source": [
    "import cv2 as cv\n",
    "import numpy as np"
   ]
  },
  {
   "cell_type": "markdown",
   "id": "f89e749a-517e-4dd3-930d-048c1025bc94",
   "metadata": {},
   "source": [
    "# Question 1"
   ]
  },
  {
   "cell_type": "code",
   "execution_count": 2,
   "id": "ad93e5b6-8e97-475f-b825-671c49531728",
   "metadata": {},
   "outputs": [],
   "source": [
    "# Question 1\n",
    "n_pixels = 60_000\n",
    "rng = np.random.default_rng(0)\n",
    "random_array = rng.integers(0, 256, size=(n_pixels,), dtype=\"uint8\")\n",
    "\n",
    "# Reshape to 2D matrix\n",
    "gray = random_array.reshape((200, -1))\n",
    "\n",
    "color = random_array.reshape((200, -1, 3))\n",
    "\n",
    "cv.imshow(\"gray\", gray)\n",
    "cv.imshow(\"color\", color)\n",
    "cv.waitKey(0)\n",
    "cv.destroyAllWindows()"
   ]
  },
  {
   "cell_type": "markdown",
   "id": "051698d8-225c-4407-b7b5-d2b1fa8d57e3",
   "metadata": {},
   "source": [
    "# Question 2"
   ]
  },
  {
   "cell_type": "code",
   "execution_count": 3,
   "id": "878d7908-a9f0-4325-9b3b-f9a49ed74e7a",
   "metadata": {},
   "outputs": [],
   "source": [
    "def crop_grid(img, num_horizontal_grid, num_vertical_grid, line_color):\n",
    "    img_copy = img.copy()\n",
    "    height, width = img.shape[:2]\n",
    "    # num_vertical_patches = 2\n",
    "    # num_horizontal_patches = 3\n",
    "\n",
    "    # M and N are basically number of pixels per patch\n",
    "    M, N = int(height / num_vertical_grid), int(width / num_horizontal_grid)\n",
    "\n",
    "    x1, y1 = 0, 0\n",
    "\n",
    "    for y in range(0, height, M):\n",
    "        for x in range(0, width, N):\n",
    "\n",
    "            y1 = y + M\n",
    "            x1 = x + N\n",
    "\n",
    "            if x1>=width and y1>=height:\n",
    "                x1 = width-1\n",
    "                y1 = height-1\n",
    "                tile = img[y:height, x:width]\n",
    "                cv.rectangle(img_copy, (x,y), (x1, y1), line_color, 1)\n",
    "                # cv.imshow('tile', tile)\n",
    "\n",
    "            elif y1>=height:\n",
    "                y1 = height-1\n",
    "                cv.rectangle(img_copy, (x, y), (x1, y1), line_color, 1)\n",
    "\n",
    "            elif x1>=width:\n",
    "                x1 = width-1\n",
    "                cv.rectangle(img_copy, (x, y), (x1, y1), line_color , 1)\n",
    "\n",
    "            else:\n",
    "                cv.rectangle(img_copy, (x, y), (x1, y1), line_color, 1)\n",
    "                \n",
    "    cv.imshow('image', img_copy)\n",
    "    cv.waitKey(0)\n",
    "    cv.destroyAllWindows()"
   ]
  },
  {
   "cell_type": "code",
   "execution_count": 4,
   "id": "61087e41-1043-4a62-a78e-c90f24197514",
   "metadata": {},
   "outputs": [],
   "source": [
    "img = cv.imread(\"images/lena.jfif\")\n",
    "\n",
    "crop_grid(img, 3, 3, (255, 0, 0))"
   ]
  },
  {
   "cell_type": "markdown",
   "id": "272c1720-52b1-45b4-83e6-1b887b1078ee",
   "metadata": {},
   "source": [
    "# Question 3"
   ]
  },
  {
   "cell_type": "code",
   "execution_count": 5,
   "id": "e5365f9d-4d5b-43f8-85ef-8dda51bf8efa",
   "metadata": {},
   "outputs": [],
   "source": [
    "from utils import point_op"
   ]
  },
  {
   "cell_type": "code",
   "execution_count": 6,
   "id": "0ed664fe-10e4-4d8f-8652-0eb943161c34",
   "metadata": {},
   "outputs": [],
   "source": [
    "img = cv.imread(\"images/alley_night.jpg\")\n",
    "\n",
    "# first way: apply point operator on RGB image\n",
    "alpha = 1\n",
    "beta = 50  # enhance brightness if beta > 0\n",
    "dst1 = point_op(img, alpha, beta)\n",
    "\n",
    "# 2nd way: apply point operator on L channel in LAB color space\n",
    "img_lab = cv.cvtColor(img, cv.COLOR_LBGR2LAB)\n",
    "l, a, b = cv.split(img_lab)\n",
    "l_bright = point_op(l, alpha, beta)\n",
    "dst2 = cv.merge((l_bright, a, b))\n",
    "dst2 = cv.cvtColor(dst2, cv.COLOR_LAB2BGR)\n",
    "\n",
    "cv.imshow(\"original\", img)\n",
    "cv.imshow(\"1st way\", dst1)\n",
    "cv.imshow(\"2nd way\", dst2)\n",
    "cv.waitKey(0)\n",
    "cv.destroyAllWindows()"
   ]
  },
  {
   "cell_type": "markdown",
   "id": "33ac4948-7487-46fd-a59a-4085279a0a66",
   "metadata": {},
   "source": [
    "# Question 4\n",
    "\n",
    "| Color spaces | Use cases |\n",
    "| --- | --- |\n",
    "| RGB | Digital imaging displays, like monitor, TV and cameras |\n",
    "| CIELAB | Accurate color difference calculations, such as quality control in manufacturing and color matching in printing |\n",
    "| HSV | Image segmentation, especially for objects with distinct colors |"
   ]
  },
  {
   "cell_type": "code",
   "execution_count": null,
   "id": "f074c671-91bc-41ba-8316-9435cfc4df71",
   "metadata": {},
   "outputs": [],
   "source": []
  }
 ],
 "metadata": {
  "kernelspec": {
   "display_name": "Python 3 (ipykernel)",
   "language": "python",
   "name": "python3"
  },
  "language_info": {
   "codemirror_mode": {
    "name": "ipython",
    "version": 3
   },
   "file_extension": ".py",
   "mimetype": "text/x-python",
   "name": "python",
   "nbconvert_exporter": "python",
   "pygments_lexer": "ipython3",
   "version": "3.12.0"
  }
 },
 "nbformat": 4,
 "nbformat_minor": 5
}
