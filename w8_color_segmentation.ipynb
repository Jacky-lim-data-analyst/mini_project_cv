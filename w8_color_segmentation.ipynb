{
 "cells": [
  {
   "cell_type": "markdown",
   "id": "13489dee-c3d5-44a4-90f7-818be278b8be",
   "metadata": {},
   "source": [
    "# Workflow\n",
    "![Color segmentation workflow](img_embed/w8_color_segmentation.webp)"
   ]
  },
  {
   "cell_type": "markdown",
   "id": "2c436f61-ba6b-4610-bf6a-9ad8d0dbabb0",
   "metadata": {},
   "source": [
    "# Step 0: Setup"
   ]
  },
  {
   "cell_type": "code",
   "execution_count": 1,
   "id": "1068de98-f169-4977-9d39-5e05ac8fcb3b",
   "metadata": {},
   "outputs": [],
   "source": [
    "from utils import display_image, display_images, gamma_correction\n",
    "import cv2 as cv\n",
    "import numpy as np\n",
    "import matplotlib.pyplot as plt"
   ]
  },
  {
   "cell_type": "code",
   "execution_count": 2,
   "id": "69dfef02-defb-4dbf-86f6-dc1e079b7e1a",
   "metadata": {},
   "outputs": [],
   "source": [
    "from skimage.exposure import is_low_contrast"
   ]
  },
  {
   "cell_type": "markdown",
   "id": "069bf7df-81cc-487c-9e50-9d277a646988",
   "metadata": {},
   "source": [
    "# Step 1: load the image"
   ]
  },
  {
   "cell_type": "code",
   "execution_count": 3,
   "id": "95f74790-21a8-4103-9b35-b65af9b65bdd",
   "metadata": {},
   "outputs": [],
   "source": [
    "img = cv.imread(\"images/w8/apples/apple1.jpg\")\n",
    "display_image(\"image\", img)"
   ]
  },
  {
   "cell_type": "markdown",
   "id": "55c0a21e-2345-4ee1-8262-5ba1be320bc2",
   "metadata": {},
   "source": [
    "# Step 2: Parameters settings"
   ]
  },
  {
   "cell_type": "code",
   "execution_count": 24,
   "id": "8e231710-1bb9-425e-a7d1-2408ec55c068",
   "metadata": {},
   "outputs": [],
   "source": [
    "# copy the original image\n",
    "img_copy = img.copy()\n",
    "# resize and gamma correction parameters\n",
    "max_width = 400\n",
    "gamma = 0.7\n",
    "# color segmentation parameters\n",
    "red1_low = (0, 75, 100)\n",
    "red1_high = (15, 255, 255)\n",
    "red2_low = (170, 75, 100)\n",
    "red2_high = (179, 255, 255)\n",
    "green_low = (35, 50, 55)\n",
    "green_high = (80, 255, 255)\n",
    "# minimum area\n",
    "min_area = 200"
   ]
  },
  {
   "attachments": {},
   "cell_type": "markdown",
   "id": "02cb7f3b-bd67-40dd-9674-1ba85eb6090b",
   "metadata": {},
   "source": [
    "# Step 3: Implementation of red and green apples detection pipeline\n",
    "![Color segmentation workflow](img_embed/color_segmentation_diagram.png)"
   ]
  },
  {
   "cell_type": "markdown",
   "id": "c10f8b2f-d5e4-488e-b6a1-197fe26f421c",
   "metadata": {},
   "source": [
    "## 3.1 Low contrast image detection\n",
    "Check whether the image is of low contrast with `skimage.exposure.is_low_contrast`. If the image is low contrast, then apply gamma correction with user-defined **gamma**. \n",
    "\n",
    "## 3.2 Color-based segmentation\n",
    "Since the aim of this project is to detect red and green apples, we will make use of HSV color space and define the suitable pixel value ranges for all the channels. Most importantly, the hue channel ranges to detect red and green objects:\n",
    "* Red1: **0 - 15**\n",
    "* Red2: **170 - 179**\n",
    "* Green: **36 - 71**\n",
    "\n",
    "## 3.3 Morphological operation\n",
    "Apply morphological closing with user defined **structuring element** to join all the potential gaps of the segmentation mask.\n",
    "\n",
    "## 3.4 Contour detection and post-processing\n",
    "Call `cv.findContours()` and apply minimum filter on all the detected contours."
   ]
  },
  {
   "cell_type": "code",
   "execution_count": 17,
   "id": "f8826019-c87b-4b62-a97a-3cc05316be3c",
   "metadata": {},
   "outputs": [],
   "source": [
    "if img.shape[1] > max_width:\n",
    "    f = max_width / img.shape[1]\n",
    "    img = cv.resize(img, None, fx=f, fy=f, interpolation=cv.INTER_CUBIC)\n",
    "\n",
    "gray = cv.cvtColor(img, cv.COLOR_BGR2GRAY)\n",
    "if is_low_contrast(gray):\n",
    "    img = gamma_corretion(img, gamma=gamma)\n",
    "\n",
    "img_hsv = cv.cvtColor(img, cv.COLOR_BGR2HSV)\n",
    "\n",
    "# red and green mask\n",
    "mask_red1 = cv.inRange(img_hsv, red1_low, red1_high)\n",
    "mask_red2 = cv.inRange(img_hsv, red2_low, red2_high)\n",
    "mask_green = cv.inRange(img_hsv, green_low, green_high)\n",
    "\n",
    "mask = mask_red1 | mask_red2 | mask_green\n",
    "# perform morphological closing\n",
    "kernel = cv.getStructuringElement(cv.MORPH_ELLIPSE, (5, 5))\n",
    "mask_final = cv.morphologyEx(mask, cv.MORPH_CLOSE, kernel)\n",
    "\n",
    "seg_res = cv.bitwise_and(img_copy, img_copy, mask=mask_final)\n",
    "# for the sake of debugging, you can uncomment the below line of code\n",
    "# display_images([img_copy, seg_res], (\"original\", \"color segmentation\"))\n",
    "\n",
    "# contours\n",
    "mask_red_final = mask_red1 | mask_red2\n",
    "contour_red, _ = cv.findContours(mask_red_final, cv.RETR_EXTERNAL, cv.CHAIN_APPROX_SIMPLE)\n",
    "contour_green, _ = cv.findContours(mask_green, cv.RETR_EXTERNAL, cv.CHAIN_APPROX_SIMPLE)\n",
    "# filter contours\n",
    "val_cnt_red = [cnt for cnt in contour_red if cv.contourArea(cnt) > min_area]\n",
    "val_cnt_green = [cnt for cnt in contour_green if cv.contourArea(cnt) > min_area]\n",
    "\n",
    "# drawing and annotation tools\n",
    "cv.putText(seg_res, f\"# red apples: {len(val_cnt_red)}\",\n",
    "          (25, img.shape[0] - 15), cv.FONT_HERSHEY_SIMPLEX, 0.5, (0, 0, 255))\n",
    "cv.putText(seg_res, f\"# green apples: {len(val_cnt_green)}\",\n",
    "          (25, img.shape[0] - 35), cv.FONT_HERSHEY_SIMPLEX, 0.5, (0, 255, 0))\n",
    "\n",
    "display_images([img_copy, seg_res], (\"original\", \"color segmentation\"))"
   ]
  },
  {
   "cell_type": "markdown",
   "id": "ea7ea45a-058f-4500-84e6-77a3674aa704",
   "metadata": {},
   "source": [
    "## Function"
   ]
  },
  {
   "cell_type": "code",
   "execution_count": 25,
   "id": "f2655cd5-0a4c-4866-a930-b14732bfcd96",
   "metadata": {},
   "outputs": [],
   "source": [
    "def segment_green_red(img, min_area=200, max_width=400, gamma=0.7, display=True):\n",
    "    \"\"\"Function to segment green and red objects\n",
    "    Arguments:\n",
    "    ---\n",
    "    img: source image\n",
    "    min_area: criterion to filter contour (default: 100)\n",
    "    max_width: Resize image to a certain width and preserves the aspect ratio of original image (default: 400)\n",
    "    gamma: gamma correction parameter (default: 0.7)\n",
    "    display: boolean (default: True)\n",
    "    \n",
    "    Returns:\n",
    "    ---\n",
    "    segmentation results with number of green and red objects\"\"\"\n",
    "    img_copy = img.copy()\n",
    "    # Resize image with fixed aspect ratio if the image width is greater than a certain threshold\n",
    "    if img.shape[1] > max_width:\n",
    "        f = max_width / img.shape[1]\n",
    "        img = cv.resize(img, None, fx=f, fy=f, interpolation=cv.INTER_CUBIC)\n",
    "\n",
    "    # denoising\n",
    "    img = cv.GaussianBlur(img, (5, 5), 0)\n",
    "    # check image contrast\n",
    "    gray = cv.cvtColor(img, cv.COLOR_BGR2GRAY)\n",
    "    if is_low_contrast(gray):\n",
    "        img = gamma_corretion(img, gamma=gamma)\n",
    "    # convert from BGR to HSV\n",
    "    img_hsv = cv.cvtColor(img, cv.COLOR_BGR2HSV)\n",
    "    \n",
    "    # red and green mask\n",
    "    mask_red1 = cv.inRange(img_hsv, red1_low, red1_high)\n",
    "    mask_red2 = cv.inRange(img_hsv, red2_low, red2_high)\n",
    "    mask_green = cv.inRange(img_hsv, green_low, green_high)\n",
    "    # red and green mask\n",
    "    mask = mask_red1 | mask_red2 | mask_green\n",
    "    # perform morphological closing\n",
    "    kernel = cv.getStructuringElement(cv.MORPH_ELLIPSE, (5, 5))\n",
    "    mask_final = cv.morphologyEx(mask, cv.MORPH_CLOSE, kernel)\n",
    "    # segmentation result\n",
    "    seg_res = cv.bitwise_and(img_copy, img_copy, mask=mask_final)\n",
    "    # for the sake of debugging, you can uncomment the below line of code\n",
    "    # display_images([img_copy, seg_res], (\"original\", \"color segmentation\"))\n",
    "    \n",
    "    # contours\n",
    "    kernel2 = np.ones((5, 5), dtype=np.uint8)\n",
    "    mask_red_final = mask_red1 | mask_red2\n",
    "    mask_red_final = cv.erode(mask_red_final, kernel2, iterations=2)\n",
    "    mask_red_final = cv.dilate(mask_red_final, kernel2, iterations=1)\n",
    "    contour_red, _ = cv.findContours(mask_red_final, cv.RETR_EXTERNAL, cv.CHAIN_APPROX_SIMPLE)\n",
    "\n",
    "    mask_green = cv.erode(mask_green, kernel2, iterations=2)\n",
    "    mask_green = cv.dilate(mask_green, kernel2, iterations=1)\n",
    "    contour_green, _ = cv.findContours(mask_green, cv.RETR_EXTERNAL, cv.CHAIN_APPROX_SIMPLE)\n",
    "    # filter contours\n",
    "    val_cnt_red = [cnt for cnt in contour_red if cv.contourArea(cnt) > min_area]\n",
    "    val_cnt_green = [cnt for cnt in contour_green if cv.contourArea(cnt) > min_area]\n",
    "    \n",
    "    # drawing and annotation tools\n",
    "    cv.putText(seg_res, f\"# red apples: {len(val_cnt_red)}\",\n",
    "              (25, img.shape[0] - 15), cv.FONT_HERSHEY_SIMPLEX, 0.5, (0, 0, 255))\n",
    "    cv.putText(seg_res, f\"# green apples: {len(val_cnt_green)}\",\n",
    "              (25, img.shape[0] - 35), cv.FONT_HERSHEY_SIMPLEX, 0.5, (0, 255, 0))\n",
    "\n",
    "    if display:\n",
    "        display_images([img_copy, seg_res], (\"original\", \"color segmentation\"))\n",
    "\n",
    "    return seg_res"
   ]
  },
  {
   "cell_type": "code",
   "execution_count": 27,
   "id": "59c086a3-b299-46bf-a0e7-b0b79a355116",
   "metadata": {},
   "outputs": [],
   "source": [
    "file_paths = [f\"images/w8/apples/apple{i}.jpg\" for i in range(1, 6)]\n",
    "\n",
    "for i, file in enumerate(file_paths):\n",
    "    img = cv.imread(cv.samples.findFile(file))\n",
    "    res = segment_green_red(img)\n",
    "    cv.imwrite(f\"images/w8/apples/app{i}_res.jpg\", res)"
   ]
  },
  {
   "cell_type": "code",
   "execution_count": null,
   "id": "4e915a6d-e70a-445c-b9ea-371ada33bebf",
   "metadata": {},
   "outputs": [],
   "source": []
  }
 ],
 "metadata": {
  "kernelspec": {
   "display_name": "Python 3 (ipykernel)",
   "language": "python",
   "name": "python3"
  },
  "language_info": {
   "codemirror_mode": {
    "name": "ipython",
    "version": 3
   },
   "file_extension": ".py",
   "mimetype": "text/x-python",
   "name": "python",
   "nbconvert_exporter": "python",
   "pygments_lexer": "ipython3",
   "version": "3.12.0"
  }
 },
 "nbformat": 4,
 "nbformat_minor": 5
}
