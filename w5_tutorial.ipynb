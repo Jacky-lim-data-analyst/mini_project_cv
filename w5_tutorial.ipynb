{
 "cells": [
  {
   "cell_type": "markdown",
   "id": "46dbf85d-96f7-465f-89bc-6970752b8cd6",
   "metadata": {},
   "source": [
    "# Leaning outcomes\n",
    "1. Drawing / Annotatitions on images\n",
    "2. Image transformation (Image augmentation)\n",
    "3. More image augmentation techniques\n",
    "4. Bitwise operations"
   ]
  },
  {
   "cell_type": "markdown",
   "id": "2735c20c-d118-4129-8677-a8b9c58a93ab",
   "metadata": {},
   "source": [
    "# Setup"
   ]
  },
  {
   "cell_type": "code",
   "execution_count": 2,
   "id": "a78196f2-8118-4c00-8a9d-227a633c2187",
   "metadata": {},
   "outputs": [
    {
     "data": {
      "text/plain": [
       "True"
      ]
     },
     "execution_count": 2,
     "metadata": {},
     "output_type": "execute_result"
    }
   ],
   "source": [
    "import sys\n",
    "assert sys.version_info >= (3, 8)\n",
    "\n",
    "import cv2 as cv\n",
    "import numpy as np\n",
    "\n",
    "if not cv.useOptimized():\n",
    "    cv.setUseOptimized(True)\n",
    "\n",
    "cv.useOptimized()"
   ]
  },
  {
   "cell_type": "markdown",
   "id": "d478c33c-a73f-46f6-83c1-9da963b7e335",
   "metadata": {},
   "source": [
    "# Annotating images using OpenCV\n",
    "Why image annotations? Below are some of the use cases:\n",
    "- Adding information to your images\n",
    "- Drawing bounding boxes around objects\n",
    "\n",
    "## Draw line on image\n",
    "The associated function is `cv.line()`:\n",
    "```\n",
    "cv.line(img, pt1, pt2, color, thickness, lineType, shift)\n",
    "```\n",
    "1. First argument, img is the source image\n",
    "2. pt1 is the first point of the line segment.\n",
    "3. pt3 is the second point of the line segment.\n",
    "4. thickness is like what the name suggests.\n",
    "5. linetype is optional flags. Examples are:\n",
    "    - cv.FILLED\n",
    "    - cv.LINE_4\n",
    "    - cv.LINE_8\n",
    "    - cv.LINE_AA"
   ]
  },
  {
   "cell_type": "code",
   "execution_count": 5,
   "id": "f58e7ae0-d310-407c-9945-b25acf74faa5",
   "metadata": {},
   "outputs": [],
   "source": [
    "img = cv.imread(\"images/meal.jpg\")\n",
    "img_copy = img.copy()\n",
    "# img.shape  (614, 826)\n",
    "start_point = (100, 150)\n",
    "end_point = (100, 600)\n",
    "\n",
    "cv.line(img_copy, start_point, end_point, (100, 150, 50), 2, cv.LINE_AA)\n",
    "\n",
    "cv.imshow('line', img_copy)\n",
    "cv.waitKey(0)\n",
    "cv.destroyAllWindows()"
   ]
  },
  {
   "cell_type": "markdown",
   "id": "400f15a4-2ecd-46ff-b375-e2e2c74111ad",
   "metadata": {},
   "source": [
    "## Draw rectangle\n",
    "The function is `cv.rectangle()`.\n",
    "```python\n",
    "cv.rectangle(img, pt1, pt2, color, thickness, linetype, shift)\n",
    "```\n",
    "1. First argument, img is the source image.\n",
    "2. pt1 is the vertex / corner of rectangle.\n",
    "3. pt2 is the opposite vertex / corner of rectangle. Together, pt1 and pt2 form the diagonal of the rectangle."
   ]
  },
  {
   "cell_type": "code",
   "execution_count": 6,
   "id": "bd321852-3c47-45c4-9dd5-62df3d8a4372",
   "metadata": {},
   "outputs": [],
   "source": [
    "img_copy = img.copy()\n",
    "pts1 = (160, 250)\n",
    "pts2 = (485, 475)\n",
    "\n",
    "cv.rectangle(img_copy, pts1, pts2, (0, 0, 255), 3, cv.LINE_AA)\n",
    "\n",
    "cv.imshow(\"rectangle\", img_copy)\n",
    "cv.waitKey(0)\n",
    "cv.destroyAllWindows()"
   ]
  },
  {
   "cell_type": "markdown",
   "id": "7c9d753d-6d54-43c2-9d9e-b5b2e083e5da",
   "metadata": {},
   "source": [
    "## Draw ellipse\n",
    "The function is `cv.ellipse()`.\n",
    "```python\n",
    "cv.ellipse(img, center, axes, angle, startAngle, endAngle, color, ...)\n",
    "```\n",
    "1. First argument, img is the source image.\n",
    "2. center is the center coordinates of ellipse.\n",
    "3. axes is a tuple of half the axes (major & minor) lengths.\n",
    "4. angle is the rotation angle. Both axes and angle arguments will determine if the output is a *horizontal* ellipse or a *vertical* ellipse.\n",
    "5. If we want to draw full ellipse, then set `startAngle = 0` and `endAngle = 360`."
   ]
  },
  {
   "cell_type": "code",
   "execution_count": 7,
   "id": "0993641c-2116-4884-aa40-ec3f25c975c4",
   "metadata": {},
   "outputs": [],
   "source": [
    "img_copy = img.copy()\n",
    "\n",
    "center = (310, 340)\n",
    "axes = (155, 95)\n",
    "\n",
    "cv.ellipse(img_copy, center, axes, 0, 0, 360, (0, 255, 0), 2)\n",
    "cv.imshow(\"ellipse\", img_copy)\n",
    "cv.waitKey(0)\n",
    "cv.destroyAllWindows()"
   ]
  },
  {
   "cell_type": "markdown",
   "id": "3619d484-efab-4e1c-afba-d41bcf379e86",
   "metadata": {},
   "source": [
    "## Text on image\n",
    "```\n",
    "cv.putText()\n",
    "```"
   ]
  },
  {
   "cell_type": "code",
   "execution_count": 8,
   "id": "11a38e2c-61dd-43e5-af47-e8adf3602e59",
   "metadata": {},
   "outputs": [],
   "source": [
    "img_copy = img.copy()\n",
    "\n",
    "text = \"The food is delicious!\"\n",
    "org = (25, 25)\n",
    "cv.putText(img_copy, text, org, cv.FONT_HERSHEY_SIMPLEX, 0.7, (200, 100, 30), 2)\n",
    "cv.imshow('text on image', img_copy)\n",
    "cv.waitKey(0)\n",
    "cv.destroyAllWindows()"
   ]
  },
  {
   "cell_type": "markdown",
   "id": "56fa68fa-c092-4df8-9fb8-7609ac1e66c1",
   "metadata": {},
   "source": [
    "## Exercise: Drawing functions\n",
    "Draw a bulleye image like what shown below:  \n",
    "![bulleye](img_embed/bulleye.PNG \"bulleye\")"
   ]
  },
  {
   "cell_type": "markdown",
   "id": "55ca0b99-60ff-4f4c-af9e-9941caebba40",
   "metadata": {},
   "source": [
    "# Affine transformation operations\n",
    "Rotation and translation of images are among the most fundamental operations in image editing. Both fall under a broader class of *affine transformation*. Affine transformation is a linear mapping method that preserves points, straight lines and planes. Sets of parallel lines remain parallel after an affine transformation. Mathematically speaking, a transformation that can be expressed as the form of matrix multiplication (linear combination) followed by vector addition (translation).\n",
    "\n",
    "$$A = \\begin{bmatrix} a_{00} & a_{01} \\\\ a_{10} & a_{11} \\end{bmatrix}, \n",
    "B = \\begin{bmatrix} b_{0} \\\\ b_{1} \\end{bmatrix} $$\n",
    "\n",
    "$$ M = \\begin{bmatrix} A & B \\end{bmatrix} $$\n",
    "\n",
    "$$ T = A . \\begin{bmatrix} x \\\\ y \\end{bmatrix} + B $$\n",
    "\n",
    "$$ T = M . [x, y, 1]^T$$\n",
    "\n",
    "$$ T = \\begin{bmatrix} a_{00}x + a_{01}y + b_{0} \\\\ a_{10}x + a_{11}y + b_{1} \\end{bmatrix}$$\n",
    "\n",
    "The affine transformation is typically used to correct for geometric distortions or deformations caused by non-ideal camera angles.\n",
    "\n",
    "## Rotation \n",
    "Two key functions:\n",
    "- `cv.getRotationMatrix2D(center, angle, scale)`\n",
    "    1. First argument is the center of rotation (coordinates, which is expressed as tuple).\n",
    "    2. Second argument is angle of rotation in degrees.\n",
    "    3. scale: scale factor which scales the image up or down.\n",
    "- `cv.warpAffine(src, M, dsize, ...)`\n",
    "    1. First argument is the source image.\n",
    "    2. M is the transformation matrix (output of the `cv.getRotationMatrix2D()` function. \n",
    "    3. dsize is size of output image. \n",
    "... denotes optional arguments. For the complete list of arguments, visit the online [OpenCV documentation](https://docs.opencv.org/4.x/da/d54/group__imgproc__transform.html#ga0203d9ee5fcd28d40dbc4a1ea4451983)\n",
    "\n",
    "## Translation\n",
    "- Create transformation matrix, $M$ which is a 2x3 array.\n",
    "- Call `cv.warpAffine()` function."
   ]
  },
  {
   "cell_type": "code",
   "execution_count": 20,
   "id": "dc8d596c-84ff-4b60-9fad-0c90a7b0770a",
   "metadata": {},
   "outputs": [],
   "source": [
    "# rotation\n",
    "img = cv.imread('images/lena.jfif')\n",
    "rows, cols = img.shape[:2]\n",
    "M = cv.getRotationMatrix2D((cols // 2, rows // 2), 90, 1)\n",
    "dst = cv.warpAffine(img, M, (cols, rows))\n",
    "\n",
    "cv.imshow('rotated image', dst)\n",
    "cv.waitKey(0)\n",
    "cv.destroyAllWindows()"
   ]
  },
  {
   "cell_type": "code",
   "execution_count": 17,
   "id": "46b67a9e-b7ff-4d75-8d42-292133a1372a",
   "metadata": {},
   "outputs": [],
   "source": [
    "# translation\n",
    "M = np.float32([[1, 0, 100], [0, 1, 50]])\n",
    "dst = cv.warpAffine(img, M, (cols, rows))\n",
    "\n",
    "cv.imshow('translated image', dst)\n",
    "cv.waitKey(0)\n",
    "cv.destroyAllWindows()"
   ]
  },
  {
   "cell_type": "markdown",
   "id": "0bc336ed-002b-4151-ac3d-929d0520d732",
   "metadata": {},
   "source": [
    "## OpenCV affine transformation function\n",
    "In affine transformation, all parallel lines in the original image will still be parallel in the output image. To find the transformation matrix, we need 3 points from the input image and their corresponding locations in the output image. When it comes to the implementation part, similar to rotation, two OpenCV functions are needed: `cv.getAffineTransform()` to get the $2 \\times 3$ matrix, in which this matrix will be argument for `cv.warpAffine()`.\n",
    "```python\n",
    "# Calculates affine transform from 3 pairs of the corresponding points\n",
    "cv.getAffineTransform(src, dst)\n",
    "```\n",
    "1. First argument is coordinates of triangle vertices in the source image.\n",
    "2. Coordinates of the corresponding triangle vertices in the destination image.\n",
    "\n",
    "```python\n",
    "cv.warpAffine(src, M, dsize, ...)\n",
    "```\n",
    "1. First argument, src is the input image.\n",
    "2. M is the $2 \\times 3$ transformation matrix.\n",
    "3. dsize is the size of the output image. Usually, same as the input image size."
   ]
  },
  {
   "cell_type": "code",
   "execution_count": 18,
   "id": "6a5005fe-8cfb-4c3a-b827-380c2235352a",
   "metadata": {},
   "outputs": [
    {
     "data": {
      "image/png": "[encoded data removed]",
      "text/plain": [
       "<Figure size 640x480 with 2 Axes>"
      ]
     },
     "metadata": {},
     "output_type": "display_data"
    }
   ],
   "source": [
    "import matplotlib.pyplot as plt\n",
    "\n",
    "img = cv.imread('images/chessboard.png')\n",
    "\n",
    "# change to RGB\n",
    "img = cv.cvtColor(img, cv.COLOR_BGR2RGB)\n",
    "\n",
    "# custom affine transform\n",
    "rows, cols = img.shape[:2]\n",
    "\n",
    "pts1 = np.float32([[25, 25], [100, 25], [25, 100]])\n",
    "pts2 = np.float32([[75, 75], [150, 85], [85, 150]])\n",
    "\n",
    "for pt in pts1:\n",
    "    cv.circle(img, (int(pt[0]), int(pt[1])), 1, (0, 100, 200), -1)\n",
    "\n",
    "M = cv.getAffineTransform(pts1, pts2)\n",
    "dst = cv.warpAffine(img, M, (cols, rows))\n",
    "\n",
    "for pt in pts2:\n",
    "    cv.circle(dst, (int(pt[0]), int(pt[1])), 1, (0, 0, 255), -1)\n",
    "\n",
    "plt.subplot(121), plt.imshow(img), plt.title('input'), plt.axis(\"off\")\n",
    "plt.subplot(122), plt.imshow(dst), plt.title('output'), plt.axis('off')\n",
    "plt.show()"
   ]
  },
  {
   "cell_type": "markdown",
   "id": "cb2df491-d95e-40b1-b816-9aa6cd17e540",
   "metadata": {},
   "source": [
    "## Perspective transform\n",
    "<figure>\n",
    "<img src=\"img_embed/road.jpg\" style=\"width:50%\">\n",
    "<figcaption align = \"center\"> Figure 1: Road warped by perspective projection. </figcaption>\n",
    "</figure>\n",
    "\n",
    "<figure>\n",
    "<img src=\"img_embed/billboard.jpg\" style=\"width:50%\">\n",
    "<figcaption align = \"center\"> Figure 2: Billboard warped by perspective projection. </figcaption>\n",
    "</figure>\n",
    "\n",
    "The above figures show examples of perspective projection, which results in segments close to the camera appear longer than segments of identical length that are further away from the camera (Figure 2). In addition, parallel lines may appear to converge towards a vanishing point. \n",
    "\n",
    "Perspective transform can be an issue if we want to check if the object of interest have the right shape and size. So, this beg a question: can we \"reverse\" the perspective distortion? The answer is yes given that we know distinct feature of the object (normally corners).\n",
    "\n",
    "OpenCV does provide 2 functions to perform perspective transformation:\n",
    "- `cv.getPerspectiveTransform(src, dst, solveMethod)`\n",
    "    * src and dst are coordinates of quadrangle vertices for source and target images respectively.\n",
    "    * methods (optional) to solve the linear equations. Refer to this [link](https://docs.opencv.org/4.5.5/d2/de8/group__core__array.html#gaaf9ea5dcc392d5ae04eacb9920b9674c) for more info.\n",
    "    * The output is the transformation matrix, $M$.\n",
    "- `cv.warpPerspective(src, M, dsize)` returns the warped image.\n",
    "    * src: input image\n",
    "    * M: $3 \\times 3$ transformation matrix\n",
    "    * dsize: size of output image\n",
    "    \n",
    "To learn more about image geometric transformation, you can refer to book: **Multiple View Geometry in Computer Vision** by Richard Hartley and Andrew Zisserman."
   ]
  },
  {
   "cell_type": "markdown",
   "id": "a99d53c2-6e04-4398-bccc-4476c6fee2a0",
   "metadata": {},
   "source": [
    "### Exercise\n",
    "Use the image \"dice.jfif\".\n",
    "\n",
    "![dice](img_embed/dice_marked.jpg \"dice\")\n",
    "\n",
    "Obtain the bird eye view of the region outlined in red with perspective transform."
   ]
  },
  {
   "cell_type": "markdown",
   "id": "9411a356-f7ce-475c-a699-14f337d3bde7",
   "metadata": {},
   "source": [
    "# More image augmentation techniques\n",
    "* Flipping an image\n",
    "* Random cropping\n",
    "* Color jittering\n",
    "* Adding noise\n",
    "\n",
    "## Flipping an image"
   ]
  },
  {
   "cell_type": "code",
   "execution_count": null,
   "id": "efa38328-6e4d-4363-ab03-42b62832130e",
   "metadata": {},
   "outputs": [],
   "source": [
    "from utils import display_images\n",
    "\n",
    "img = cv.imread(\"images/meal.jpg\")\n",
    "img_ud = cv.flip(img, 0)  # around x-axis\n",
    "img_lr = cv.flip(img, 1)\n",
    "img_lrud = cv.flip(img, -1)\n",
    "\n",
    "display_images([img, img_lr, img_ud, img_lrud], \n",
    "              (\"original\", \"left right\", \"up-down\", \"both\"))"
   ]
  },
  {
   "cell_type": "markdown",
   "id": "553468c5-0bdc-4c52-be7e-feb41a440ea3",
   "metadata": {},
   "source": [
    "## Random cropping"
   ]
  },
  {
   "cell_type": "code",
   "execution_count": null,
   "id": "28f53441-9ec2-4365-a6d1-33e5cb153bb7",
   "metadata": {},
   "outputs": [],
   "source": [
    "import os\n",
    "import random\n",
    "\n",
    "def randomcrop(img, scale=0.5):\n",
    "    \"\"\"Randomly crop image. The recommended scale is [0.5, 0.95]\"\"\"\n",
    "    height, width = int(img.shape[0] * scale), int(img.shape[1] * scale)\n",
    "    x = random.randint(0, img.shape[1] - int(width))\n",
    "    y = random.randint(0, img.shape[0] - int(height))\n",
    "    cropped = img[y: y+height, x: x+width]\n",
    "    resized = cv.resize(cropped, (img.shape[1], img.shape[0]))\n",
    "    return resized"
   ]
  },
  {
   "cell_type": "markdown",
   "id": "754c3da4-50be-464a-830c-548b717d1809",
   "metadata": {},
   "source": [
    "## Color jittering"
   ]
  },
  {
   "cell_type": "code",
   "execution_count": null,
   "id": "f6b7ed84-8025-4bd7-a58a-459a7ec2f06d",
   "metadata": {},
   "outputs": [],
   "source": [
    "def colorjitter(img, cj_type=\"b\"):\n",
    "    \"\"\"\n",
    "    Different color jitter:\n",
    "    \"\"\"\n",
    "    if cj_type == \"b\":\n",
    "        value = random.randint(-60, 60)\n",
    "        while value == 0:\n",
    "            value = random.randint(-60, 60)\n",
    "\n",
    "        hsv = cv.cvtColor(img, cv.COLOR_BGR2HSV)\n",
    "        h, s, v = cv.split(hsv)\n",
    "        # cast to float\n",
    "        v_channel = np.float32(v) + value\n",
    "        v_channel = np.clip(v_channel, 0, 255).astype(\"uint8\")\n",
    "        final_hsv = cv.merge((h, s, v_channel))\n",
    "        img = cv.cvtColor(final_hsv, cv.COLOR_HSV2BGR)\n",
    "        return img\n",
    "\n",
    "    if cj_type == \"s\":\n",
    "        value = random.randint(-60, 60)\n",
    "        while value == 0:\n",
    "            value = random.randint(-60, 60)\n",
    "\n",
    "        hsv = cv.cvtColor(img, cv.COLOR_BGR2HSV)\n",
    "        h, s, v = cv.split(hsv)\n",
    "        # cast to float\n",
    "        s_channel = np.float32(s) + value\n",
    "        s_channel = np.clip(s_channel, 0, 255).astype(\"uint8\")\n",
    "        final_hsv = cv.merge((h, s_channel, v))\n",
    "        img = cv.cvtColor(final_hsv, cv.COLOR_HSV2BGR)\n",
    "        return img\n",
    "\n",
    "    if cj_type == \"c\":\n",
    "        # multiplier coefficient randomly generated centered around mean of 1\n",
    "        coef = random.gauss(1, 0.3)\n",
    "        img_float = np.float32(img) * coef\n",
    "        img_final = np.clip(img_float, 0, 255).astype(\"uint8\")\n",
    "        return img_final\n",
    "\n",
    "    if cj_type == \"h\":\n",
    "        value = random.randint(-30, 30)\n",
    "        while value == 0:\n",
    "            value = random.randint(-30, 30)\n",
    "\n",
    "        hsv = cv.cvtColor(img, cv.COLOR_BGR2HSV)\n",
    "        h, s, v = cv.split(hsv)\n",
    "        # cast to float\n",
    "        h_channel = np.float32(h) + value\n",
    "        h_channel = np.clip(h_channel, 0, 179).astype(\"uint8\")\n",
    "        final_hsv = cv.merge((h_channel, s, v))\n",
    "        img = cv.cvtColor(final_hsv, cv.COLOR_HSV2BGR)\n",
    "        return img"
   ]
  },
  {
   "cell_type": "markdown",
   "id": "148ff7d3-bbdc-431a-99ea-8bda4f8877d7",
   "metadata": {},
   "source": [
    "## Noise injection"
   ]
  },
  {
   "cell_type": "code",
   "execution_count": null,
   "id": "adbce63a-fb07-46da-9493-a0dac648497d",
   "metadata": {},
   "outputs": [],
   "source": [
    "def add_noise(img, mean=0, sigma=30):\n",
    "    \"\"\"\"\"\"\n",
    "    img = img.astype(\"float32\")\n",
    "\n",
    "    height, width, channels = img.shape\n",
    "    noise = np.random.normal(loc=mean, scale=sigma, size=(height, width, channels))\n",
    "\n",
    "    img_noise = img + noise\n",
    "    img_noise = np.clip(img_noise, 0, 255).astype(\"uint8\")\n",
    "    return img_noise"
   ]
  },
  {
   "cell_type": "markdown",
   "id": "d803081a-8272-40a0-8d84-6858fa625840",
   "metadata": {},
   "source": [
    "# Bitwise operations\n",
    "In this section, we will review four bitwise operations: *AND, OR, XOR* and *NOT*. While very basic and low level, these 4 operations are indispensible, when it comes to **masking**, **extracting specific region of an image** and **pixel-level manipulation**. \n",
    "\n",
    "Bitwise operations function in a binary manner. A given pixel is turned off if it has a value of zero and it is turned on if the pixel has a value greater than zero.\n",
    "```python\n",
    "dst = cv.bitwise_and(src1, src2[, dst[, mask]])\n",
    "```\n",
    "The first and second arguments are input array (images). Argument 'mask' is optional operation mask. `cv.bitwise_or` and `cv.bitwise_xor` method signature are similar to `cv.bitwise_and`.\n",
    "\n",
    "```python\n",
    "dst = cv.bitwise_not(src[, dst[, mask]])\n",
    "```\n",
    "The first argument is the input array, while argument 'mask' is optional operation mask."
   ]
  },
  {
   "cell_type": "code",
   "execution_count": 10,
   "id": "58b090b2-2396-475a-af38-c7b4a0a56c60",
   "metadata": {},
   "outputs": [],
   "source": [
    "from utils import display_images\n",
    "\n",
    "rect = np.zeros((400, 400), dtype=np.uint8)\n",
    "cv.rectangle(rect, (30, 30), (370, 370), 255, -1)\n",
    "\n",
    "circle = np.zeros((400, 400), dtype=np.uint8)\n",
    "cv.circle(circle, (200, 200), 200, 255, -1)\n",
    "display_images([rect, circle], (\"rectangle\", \"circle\"))"
   ]
  },
  {
   "cell_type": "code",
   "execution_count": 11,
   "id": "7933700c-ef4c-49e0-b29a-ce6813c7391a",
   "metadata": {},
   "outputs": [],
   "source": [
    "# AND operation\n",
    "res_AND = cv.bitwise_and(rect, circle)\n",
    "cv.imshow('AND operator result', res_AND)\n",
    "cv.waitKey(0)\n",
    "cv.destroyAllWindows()"
   ]
  },
  {
   "cell_type": "code",
   "execution_count": 12,
   "id": "eee6b637-c508-439b-86f7-ccbbef9e589e",
   "metadata": {},
   "outputs": [],
   "source": [
    "# OR operation\n",
    "res_OR = cv.bitwise_or(rect, circle)\n",
    "cv.imshow(\"OR operator result\", res_OR)\n",
    "cv.waitKey(0)\n",
    "cv.destroyAllWindows()"
   ]
  },
  {
   "cell_type": "code",
   "execution_count": 13,
   "id": "c1dba890-f8b8-4835-be24-8f3edb60bd24",
   "metadata": {},
   "outputs": [],
   "source": [
    "# XOR operation\n",
    "res_XOR = cv.bitwise_xor(rect, circle)\n",
    "cv.imshow('XOR operator result', res_XOR)\n",
    "cv.waitKey(0)\n",
    "cv.destroyAllWindows()"
   ]
  },
  {
   "cell_type": "markdown",
   "id": "a51bb56d-bd1a-4899-b274-c8eb4ce753b6",
   "metadata": {},
   "source": [
    "**Exercise**  \n",
    "5. Turn the white rectangle on dark background to black rectangle on white background."
   ]
  },
  {
   "cell_type": "markdown",
   "id": "aad1f65c-9301-427b-ac22-66c945337b9d",
   "metadata": {},
   "source": [
    "# Weekly activity\n",
    "1. Rotate image by 45 degrees without cropping the sides of the image. (Hint: There are 2 strategies to tackle these problems). Use _\"lena.jfif\"_ as the input image.\n",
    "    - Use external libraries `imutils`.  \n",
    "    - Modify the transformation matrix.\n",
    "2. Use the images with titles: _\"flower.jfif\"_ and _\"native-bee.png\"_. I want to put flower above an image. If I add two images, it will change color. If I blend it, I get a transparent effect. But I want it to be opaque. If it was a rectangular region, we could use the ROI as we did in the previous section. But flower is not a rectangular region. This is where bitwise operations, like AND, OR, NOT and XOR really come in handy. The associated functions are `cv.bitwise_and()`, `cv.bitwise_or()` and `cv.bitwise_not()`. You need to use `cv.threshold` function to segment the flower. Please refer to [online documentation](https://docs.opencv.org/4.x/d0/d86/tutorial_py_image_arithmetics.html) for more info. The result should resemble the following:  \n",
    "![bee and flowers](img_embed/activity3.PNG \"bee_flower\")\n",
    "3. Write a function that randomly crop the central region of an image. The method signature should be as shown in the following:\n",
    "```\n",
    "random_center_crop(image, min_crop_ratio, max_crop_ratio)\n",
    "```\n",
    "\n",
    "4. Aside from Gaussian noise, name another common type of noise. Write the code to demonstrate how the noise can be included in an image."
   ]
  },
  {
   "cell_type": "code",
   "execution_count": null,
   "id": "38c13986-2445-49b7-aac7-1eb9f94cd69d",
   "metadata": {},
   "outputs": [],
   "source": []
  }
 ],
 "metadata": {
  "kernelspec": {
   "display_name": "Python 3 (ipykernel)",
   "language": "python",
   "name": "python3"
  },
  "language_info": {
   "codemirror_mode": {
    "name": "ipython",
    "version": 3
   },
   "file_extension": ".py",
   "mimetype": "text/x-python",
   "name": "python",
   "nbconvert_exporter": "python",
   "pygments_lexer": "ipython3",
   "version": "3.12.0"
  }
 },
 "nbformat": 4,
 "nbformat_minor": 5
}
